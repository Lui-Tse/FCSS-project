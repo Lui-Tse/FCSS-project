{
 "cells": [
  {
   "cell_type": "code",
   "execution_count": 1,
   "metadata": {},
   "outputs": [],
   "source": [
    "import snscrape.modules.twitter as sntwitter\n",
    "import pandas as pd\n",
    "import re\n",
    "import nltk\n",
    "import string\n",
    "import numpy as np\n",
    "from scipy import stats\n",
    "import plotly.express as px\n",
    "from vaderSentiment.vaderSentiment import SentimentIntensityAnalyzer"
   ]
  },
  {
   "cell_type": "code",
   "execution_count": 7,
   "metadata": {},
   "outputs": [],
   "source": [
    "# Using TwitterSearchScraper to scrape data and append tweets to list then return pd DataFrame\n",
    "def tweets(query,country):\n",
    "    country_list = []\n",
    "    for i,tweet in enumerate(sntwitter.TwitterSearchScraper(query).get_items()):\n",
    "        if i>199:\n",
    "            break\n",
    "        country_list.append([f\"{country}\",tweet.date, tweet.id, tweet.rawContent, tweet.user.username])\n",
    "    return pd.DataFrame(country_list, columns=[\"Country\",\"Datetime\", \"Tweet Id\", \"Text\", \"Username\"])\n"
   ]
  },
  {
   "cell_type": "code",
   "execution_count": 8,
   "metadata": {},
   "outputs": [],
   "source": [
    "# Date of last match in different stage\n",
    "date1 = \"2022-12-02\"\n",
    "date2 = \"2022-12-06\"\n",
    "date3 = \"2022-12-10\"\n",
    "date4 = \"2022-12-17\"\n",
    "date5 = \"2022-12-18\""
   ]
  },
  {
   "cell_type": "code",
   "execution_count": 39,
   "metadata": {},
   "outputs": [
    {
     "data": {
      "text/html": [
       "<div>\n",
       "<style scoped>\n",
       "    .dataframe tbody tr th:only-of-type {\n",
       "        vertical-align: middle;\n",
       "    }\n",
       "\n",
       "    .dataframe tbody tr th {\n",
       "        vertical-align: top;\n",
       "    }\n",
       "\n",
       "    .dataframe thead th {\n",
       "        text-align: right;\n",
       "    }\n",
       "</style>\n",
       "<table border=\"1\" class=\"dataframe\">\n",
       "  <thead>\n",
       "    <tr style=\"text-align: right;\">\n",
       "      <th></th>\n",
       "      <th>Country</th>\n",
       "      <th>Datetime</th>\n",
       "      <th>Tweet Id</th>\n",
       "      <th>Text</th>\n",
       "      <th>Username</th>\n",
       "    </tr>\n",
       "  </thead>\n",
       "  <tbody>\n",
       "    <tr>\n",
       "      <th>0</th>\n",
       "      <td>Argentina</td>\n",
       "      <td>2022-12-17 23:59:38+00:00</td>\n",
       "      <td>1604265092849274880</td>\n",
       "      <td>Se acerca el aniversario de Volt Inu @VoltInuO...</td>\n",
       "      <td>mauroboselli</td>\n",
       "    </tr>\n",
       "    <tr>\n",
       "      <th>1</th>\n",
       "      <td>Argentina</td>\n",
       "      <td>2022-12-17 23:59:21+00:00</td>\n",
       "      <td>1604265020111495168</td>\n",
       "      <td>Fans arrive in /Qatar/L(25.5N,51.2E) as /Argen...</td>\n",
       "      <td>LSTA_Linfer_en</td>\n",
       "    </tr>\n",
       "    <tr>\n",
       "      <th>2</th>\n",
       "      <td>Argentina</td>\n",
       "      <td>2022-12-17 23:58:17+00:00</td>\n",
       "      <td>1604264752770859009</td>\n",
       "      <td>El campeón del mundial se ganará la bobadita d...</td>\n",
       "      <td>jcardonaleon</td>\n",
       "    </tr>\n",
       "    <tr>\n",
       "      <th>3</th>\n",
       "      <td>Argentina</td>\n",
       "      <td>2022-12-17 23:58:06+00:00</td>\n",
       "      <td>1604264708294393856</td>\n",
       "      <td>Sério q tem brasileiro torcendo pra argentina ...</td>\n",
       "      <td>Sharkmind2</td>\n",
       "    </tr>\n",
       "    <tr>\n",
       "      <th>4</th>\n",
       "      <td>Argentina</td>\n",
       "      <td>2022-12-17 23:57:55+00:00</td>\n",
       "      <td>1604264660378611712</td>\n",
       "      <td>Simak informasi selengkapnya di https://t.co/7...</td>\n",
       "      <td>CropLifeIndo</td>\n",
       "    </tr>\n",
       "    <tr>\n",
       "      <th>...</th>\n",
       "      <td>...</td>\n",
       "      <td>...</td>\n",
       "      <td>...</td>\n",
       "      <td>...</td>\n",
       "      <td>...</td>\n",
       "    </tr>\n",
       "    <tr>\n",
       "      <th>195</th>\n",
       "      <td>Argentina</td>\n",
       "      <td>2022-12-17 23:11:25+00:00</td>\n",
       "      <td>1604252957633302529</td>\n",
       "      <td>@AnonAugustusz @diiphillipo @BubbleLFC @PremLe...</td>\n",
       "      <td>JuanDeag182</td>\n",
       "    </tr>\n",
       "    <tr>\n",
       "      <th>196</th>\n",
       "      <td>Argentina</td>\n",
       "      <td>2022-12-17 23:11:22+00:00</td>\n",
       "      <td>1604252944081489920</td>\n",
       "      <td>@Saudi_Gazette Argentina 3 - France 1. Argenti...</td>\n",
       "      <td>street16oz</td>\n",
       "    </tr>\n",
       "    <tr>\n",
       "      <th>197</th>\n",
       "      <td>Argentina</td>\n",
       "      <td>2022-12-17 23:11:12+00:00</td>\n",
       "      <td>1604252902456848384</td>\n",
       "      <td>@fifaworldcup_pt Argentina</td>\n",
       "      <td>marciomendess93</td>\n",
       "    </tr>\n",
       "    <tr>\n",
       "      <th>198</th>\n",
       "      <td>Argentina</td>\n",
       "      <td>2022-12-17 23:11:10+00:00</td>\n",
       "      <td>1604252895179743232</td>\n",
       "      <td>🗣️ “Strength, lots of strength. Every ball you...</td>\n",
       "      <td>Newells_en</td>\n",
       "    </tr>\n",
       "    <tr>\n",
       "      <th>199</th>\n",
       "      <td>Argentina</td>\n",
       "      <td>2022-12-17 23:10:54+00:00</td>\n",
       "      <td>1604252829270556674</td>\n",
       "      <td>#Argentina #FIFAWorldCup #Maradona #Messi http...</td>\n",
       "      <td>ProfesorsTeam</td>\n",
       "    </tr>\n",
       "  </tbody>\n",
       "</table>\n",
       "<p>200 rows × 5 columns</p>\n",
       "</div>"
      ],
      "text/plain": [
       "       Country                  Datetime             Tweet Id  \\\n",
       "0    Argentina 2022-12-17 23:59:38+00:00  1604265092849274880   \n",
       "1    Argentina 2022-12-17 23:59:21+00:00  1604265020111495168   \n",
       "2    Argentina 2022-12-17 23:58:17+00:00  1604264752770859009   \n",
       "3    Argentina 2022-12-17 23:58:06+00:00  1604264708294393856   \n",
       "4    Argentina 2022-12-17 23:57:55+00:00  1604264660378611712   \n",
       "..         ...                       ...                  ...   \n",
       "195  Argentina 2022-12-17 23:11:25+00:00  1604252957633302529   \n",
       "196  Argentina 2022-12-17 23:11:22+00:00  1604252944081489920   \n",
       "197  Argentina 2022-12-17 23:11:12+00:00  1604252902456848384   \n",
       "198  Argentina 2022-12-17 23:11:10+00:00  1604252895179743232   \n",
       "199  Argentina 2022-12-17 23:10:54+00:00  1604252829270556674   \n",
       "\n",
       "                                                  Text         Username  \n",
       "0    Se acerca el aniversario de Volt Inu @VoltInuO...     mauroboselli  \n",
       "1    Fans arrive in /Qatar/L(25.5N,51.2E) as /Argen...   LSTA_Linfer_en  \n",
       "2    El campeón del mundial se ganará la bobadita d...     jcardonaleon  \n",
       "3    Sério q tem brasileiro torcendo pra argentina ...       Sharkmind2  \n",
       "4    Simak informasi selengkapnya di https://t.co/7...     CropLifeIndo  \n",
       "..                                                 ...              ...  \n",
       "195  @AnonAugustusz @diiphillipo @BubbleLFC @PremLe...      JuanDeag182  \n",
       "196  @Saudi_Gazette Argentina 3 - France 1. Argenti...       street16oz  \n",
       "197                         @fifaworldcup_pt Argentina  marciomendess93  \n",
       "198  🗣️ “Strength, lots of strength. Every ball you...       Newells_en  \n",
       "199  #Argentina #FIFAWorldCup #Maradona #Messi http...    ProfesorsTeam  \n",
       "\n",
       "[200 rows x 5 columns]"
      ]
     },
     "execution_count": 39,
     "metadata": {},
     "output_type": "execute_result"
    }
   ],
   "source": [
    "# Test\n",
    "tweets(f\"FIFAWorldCup Argentina since:2022-11-20 until:{date5}\",\"Argentina\")"
   ]
  },
  {
   "cell_type": "code",
   "execution_count": 9,
   "metadata": {},
   "outputs": [],
   "source": [
    "# Extract tweets for selected country\n",
    "def data(country,date):\n",
    "    country_tweets = tweets(f\"(FIFAWorldCup and {country}) since:2022-11-20 until:{date}\",f\"{country}\")\n",
    "    return country_tweets"
   ]
  },
  {
   "cell_type": "code",
   "execution_count": 40,
   "metadata": {},
   "outputs": [
    {
     "data": {
      "text/html": [
       "<div>\n",
       "<style scoped>\n",
       "    .dataframe tbody tr th:only-of-type {\n",
       "        vertical-align: middle;\n",
       "    }\n",
       "\n",
       "    .dataframe tbody tr th {\n",
       "        vertical-align: top;\n",
       "    }\n",
       "\n",
       "    .dataframe thead th {\n",
       "        text-align: right;\n",
       "    }\n",
       "</style>\n",
       "<table border=\"1\" class=\"dataframe\">\n",
       "  <thead>\n",
       "    <tr style=\"text-align: right;\">\n",
       "      <th></th>\n",
       "      <th>Country</th>\n",
       "      <th>Datetime</th>\n",
       "      <th>Tweet Id</th>\n",
       "      <th>Text</th>\n",
       "      <th>Username</th>\n",
       "    </tr>\n",
       "  </thead>\n",
       "  <tbody>\n",
       "    <tr>\n",
       "      <th>0</th>\n",
       "      <td>Argentina</td>\n",
       "      <td>2022-12-17 23:55:02+00:00</td>\n",
       "      <td>1604263934730854406</td>\n",
       "      <td>Ex-Manchester United captain predicts the winn...</td>\n",
       "      <td>sportnewsblogd1</td>\n",
       "    </tr>\n",
       "    <tr>\n",
       "      <th>1</th>\n",
       "      <td>Argentina</td>\n",
       "      <td>2022-12-17 23:48:26+00:00</td>\n",
       "      <td>1604262273543176192</td>\n",
       "      <td>@FIFAWorldCup This it's gonna be tight game an...</td>\n",
       "      <td>im_abhay4u</td>\n",
       "    </tr>\n",
       "    <tr>\n",
       "      <th>2</th>\n",
       "      <td>Argentina</td>\n",
       "      <td>2022-12-17 23:48:06+00:00</td>\n",
       "      <td>1604262191812722688</td>\n",
       "      <td>@FIFAWorldCup While everyone is waiting for th...</td>\n",
       "      <td>i8u9i</td>\n",
       "    </tr>\n",
       "    <tr>\n",
       "      <th>3</th>\n",
       "      <td>Argentina</td>\n",
       "      <td>2022-12-17 23:46:08+00:00</td>\n",
       "      <td>1604261695597207557</td>\n",
       "      <td>@FIFAWorldCup Don't mess it up with your unfai...</td>\n",
       "      <td>Bal_Aissata</td>\n",
       "    </tr>\n",
       "    <tr>\n",
       "      <th>4</th>\n",
       "      <td>Argentina</td>\n",
       "      <td>2022-12-17 23:46:06+00:00</td>\n",
       "      <td>1604261686399176704</td>\n",
       "      <td>Mbappe please humble Argentina and messi! Save...</td>\n",
       "      <td>md7y_</td>\n",
       "    </tr>\n",
       "    <tr>\n",
       "      <th>...</th>\n",
       "      <td>...</td>\n",
       "      <td>...</td>\n",
       "      <td>...</td>\n",
       "      <td>...</td>\n",
       "      <td>...</td>\n",
       "    </tr>\n",
       "    <tr>\n",
       "      <th>195</th>\n",
       "      <td>Argentina</td>\n",
       "      <td>2022-12-17 18:59:55+00:00</td>\n",
       "      <td>1604189664856141825</td>\n",
       "      <td>People talk about how FWC is rigged and everyo...</td>\n",
       "      <td>11Kargil</td>\n",
       "    </tr>\n",
       "    <tr>\n",
       "      <th>196</th>\n",
       "      <td>Argentina</td>\n",
       "      <td>2022-12-17 18:58:59+00:00</td>\n",
       "      <td>1604189432848023558</td>\n",
       "      <td>@FIFAWorldCup *SUNDAY* WILL BE ON 🔥 AS THE TWO...</td>\n",
       "      <td>AladeJoshua1000</td>\n",
       "    </tr>\n",
       "    <tr>\n",
       "      <th>197</th>\n",
       "      <td>Argentina</td>\n",
       "      <td>2022-12-17 18:56:07+00:00</td>\n",
       "      <td>1604188711683559427</td>\n",
       "      <td>How can FIFA award #Messi a penalty kick v Cro...</td>\n",
       "      <td>LukaLuca77</td>\n",
       "    </tr>\n",
       "    <tr>\n",
       "      <th>198</th>\n",
       "      <td>Argentina</td>\n",
       "      <td>2022-12-17 18:52:45+00:00</td>\n",
       "      <td>1604187860965687298</td>\n",
       "      <td>Fight between Brazil, Argentina and Portugal i...</td>\n",
       "      <td>SnehalPrabhu5</td>\n",
       "    </tr>\n",
       "    <tr>\n",
       "      <th>199</th>\n",
       "      <td>Argentina</td>\n",
       "      <td>2022-12-17 18:50:39+00:00</td>\n",
       "      <td>1604187335364513792</td>\n",
       "      <td>@Silvina_Global @Lee0nnn @BarcaGraphics29 @FIF...</td>\n",
       "      <td>ImTheOnlyRandom</td>\n",
       "    </tr>\n",
       "  </tbody>\n",
       "</table>\n",
       "<p>200 rows × 5 columns</p>\n",
       "</div>"
      ],
      "text/plain": [
       "       Country                  Datetime             Tweet Id  \\\n",
       "0    Argentina 2022-12-17 23:55:02+00:00  1604263934730854406   \n",
       "1    Argentina 2022-12-17 23:48:26+00:00  1604262273543176192   \n",
       "2    Argentina 2022-12-17 23:48:06+00:00  1604262191812722688   \n",
       "3    Argentina 2022-12-17 23:46:08+00:00  1604261695597207557   \n",
       "4    Argentina 2022-12-17 23:46:06+00:00  1604261686399176704   \n",
       "..         ...                       ...                  ...   \n",
       "195  Argentina 2022-12-17 18:59:55+00:00  1604189664856141825   \n",
       "196  Argentina 2022-12-17 18:58:59+00:00  1604189432848023558   \n",
       "197  Argentina 2022-12-17 18:56:07+00:00  1604188711683559427   \n",
       "198  Argentina 2022-12-17 18:52:45+00:00  1604187860965687298   \n",
       "199  Argentina 2022-12-17 18:50:39+00:00  1604187335364513792   \n",
       "\n",
       "                                                  Text         Username  \n",
       "0    Ex-Manchester United captain predicts the winn...  sportnewsblogd1  \n",
       "1    @FIFAWorldCup This it's gonna be tight game an...       im_abhay4u  \n",
       "2    @FIFAWorldCup While everyone is waiting for th...            i8u9i  \n",
       "3    @FIFAWorldCup Don't mess it up with your unfai...      Bal_Aissata  \n",
       "4    Mbappe please humble Argentina and messi! Save...            md7y_  \n",
       "..                                                 ...              ...  \n",
       "195  People talk about how FWC is rigged and everyo...         11Kargil  \n",
       "196  @FIFAWorldCup *SUNDAY* WILL BE ON 🔥 AS THE TWO...  AladeJoshua1000  \n",
       "197  How can FIFA award #Messi a penalty kick v Cro...       LukaLuca77  \n",
       "198  Fight between Brazil, Argentina and Portugal i...    SnehalPrabhu5  \n",
       "199  @Silvina_Global @Lee0nnn @BarcaGraphics29 @FIF...  ImTheOnlyRandom  \n",
       "\n",
       "[200 rows x 5 columns]"
      ]
     },
     "execution_count": 40,
     "metadata": {},
     "output_type": "execute_result"
    }
   ],
   "source": [
    "# Test\n",
    "data(\"Argentina\",date5)"
   ]
  },
  {
   "cell_type": "code",
   "execution_count": 10,
   "metadata": {},
   "outputs": [
    {
     "data": {
      "text/html": [
       "<div>\n",
       "<style scoped>\n",
       "    .dataframe tbody tr th:only-of-type {\n",
       "        vertical-align: middle;\n",
       "    }\n",
       "\n",
       "    .dataframe tbody tr th {\n",
       "        vertical-align: top;\n",
       "    }\n",
       "\n",
       "    .dataframe thead th {\n",
       "        text-align: right;\n",
       "    }\n",
       "</style>\n",
       "<table border=\"1\" class=\"dataframe\">\n",
       "  <thead>\n",
       "    <tr style=\"text-align: right;\">\n",
       "      <th></th>\n",
       "      <th>Country</th>\n",
       "      <th>Datetime</th>\n",
       "      <th>Tweet Id</th>\n",
       "      <th>Text</th>\n",
       "      <th>Username</th>\n",
       "    </tr>\n",
       "  </thead>\n",
       "  <tbody>\n",
       "    <tr>\n",
       "      <th>0</th>\n",
       "      <td>Argentina</td>\n",
       "      <td>2022-12-17 23:55:02+00:00</td>\n",
       "      <td>1604263934730854406</td>\n",
       "      <td>Ex-Manchester United captain predicts the winn...</td>\n",
       "      <td>sportnewsblogd1</td>\n",
       "    </tr>\n",
       "    <tr>\n",
       "      <th>1</th>\n",
       "      <td>Argentina</td>\n",
       "      <td>2022-12-17 23:48:26+00:00</td>\n",
       "      <td>1604262273543176192</td>\n",
       "      <td>@FIFAWorldCup This it's gonna be tight game an...</td>\n",
       "      <td>im_abhay4u</td>\n",
       "    </tr>\n",
       "    <tr>\n",
       "      <th>2</th>\n",
       "      <td>Argentina</td>\n",
       "      <td>2022-12-17 23:48:06+00:00</td>\n",
       "      <td>1604262191812722688</td>\n",
       "      <td>@FIFAWorldCup While everyone is waiting for th...</td>\n",
       "      <td>i8u9i</td>\n",
       "    </tr>\n",
       "    <tr>\n",
       "      <th>3</th>\n",
       "      <td>Argentina</td>\n",
       "      <td>2022-12-17 23:46:08+00:00</td>\n",
       "      <td>1604261695597207557</td>\n",
       "      <td>@FIFAWorldCup Don't mess it up with your unfai...</td>\n",
       "      <td>Bal_Aissata</td>\n",
       "    </tr>\n",
       "    <tr>\n",
       "      <th>4</th>\n",
       "      <td>Argentina</td>\n",
       "      <td>2022-12-17 23:46:06+00:00</td>\n",
       "      <td>1604261686399176704</td>\n",
       "      <td>Mbappe please humble Argentina and messi! Save...</td>\n",
       "      <td>md7y_</td>\n",
       "    </tr>\n",
       "  </tbody>\n",
       "</table>\n",
       "</div>"
      ],
      "text/plain": [
       "     Country                  Datetime             Tweet Id  \\\n",
       "0  Argentina 2022-12-17 23:55:02+00:00  1604263934730854406   \n",
       "1  Argentina 2022-12-17 23:48:26+00:00  1604262273543176192   \n",
       "2  Argentina 2022-12-17 23:48:06+00:00  1604262191812722688   \n",
       "3  Argentina 2022-12-17 23:46:08+00:00  1604261695597207557   \n",
       "4  Argentina 2022-12-17 23:46:06+00:00  1604261686399176704   \n",
       "\n",
       "                                                Text         Username  \n",
       "0  Ex-Manchester United captain predicts the winn...  sportnewsblogd1  \n",
       "1  @FIFAWorldCup This it's gonna be tight game an...       im_abhay4u  \n",
       "2  @FIFAWorldCup While everyone is waiting for th...            i8u9i  \n",
       "3  @FIFAWorldCup Don't mess it up with your unfai...      Bal_Aissata  \n",
       "4  Mbappe please humble Argentina and messi! Save...            md7y_  "
      ]
     },
     "execution_count": 10,
     "metadata": {},
     "output_type": "execute_result"
    }
   ],
   "source": [
    "# Extracted Tweets of target country and date\n",
    "frame = [data(\"Argentina\",date5),data(\"Australia\",date3),data(\"Belgium\",date1),data(\"Brazil\",date4),data(\"Cameroon\",date1),\n",
    "data(\"Canada\",date1),data(\"Costa Rica\",date1),data(\"Croatia\",date4),data(\"Denmark\",date1),data(\"Ecuador\",date1),\n",
    "data(\"England\",date4),data(\"France\",date5),data(\"Germany\",date1),data(\"Ghana\",date1),data(\"Iran\",date1),\n",
    "data(\"Japan\",date3),data(\"Korea Republic\",date3),data(\"Mexico\",date1),data(\"Morocco\",date4),data(\"Netherlands\",date4),\n",
    "data(\"Poland\",date3),data(\"Portugal\",date4),data(\"Qatar\",date1),data(\"Saudi Arabia\",date1),data(\"Senegal\",date3),\n",
    "data(\"Serbia\",date1),data(\"Spain\",date3),data(\"Switzerland\",date3),data(\"Tunisia\",date1),data(\"United States\",date3),\n",
    "data(\"Uruguay\",date1),data(\"Wales\",date1)]\n",
    "\n",
    "tweets_data = pd.concat(frame, ignore_index=True)\n",
    "\n",
    "tweets_data.head()"
   ]
  },
  {
   "cell_type": "code",
   "execution_count": 11,
   "metadata": {},
   "outputs": [],
   "source": [
    "# Preprocess text \n",
    "words = set(nltk.corpus.words.words())\n",
    "\n",
    "def preprocess(text):\n",
    "    text = \" \".join(text.lower() for x in text.split())  # Lowercase all the letters\n",
    "    text = \"\".join([char for char in text if char not in string.punctuation])\n",
    "    text = re.sub(r\"http\\S+\", \"\", text)  # Remove http links\n",
    "    text = re.sub(r\"www.\\S+\", \"\", text)  # Remove www links\n",
    "    text = re.sub(\"@[A-Za-z0-9]+\", \"\", text)  # Remove @ sign\n",
    "    text = re.sub(\"#[A-Za-z0-9_]+\", \"\", text)  # Remove # sign\n",
    "    text = \" \".join(w for w in nltk.wordpunct_tokenize(text)\n",
    "                    if w.lower() in words or not w.isalpha())  # Remove non-english tweets (not 100% success)\n",
    "    text = \" \".join(dict.fromkeys(text.split())) # Remove duplicates avoid exceeded size of the tensor\n",
    "\n",
    "    if text.strip() == \"\":  # Remove empty row after cleaning\n",
    "        tweets_data.drop(index, inplace=True)\n",
    "\n",
    "    return text"
   ]
  },
  {
   "cell_type": "code",
   "execution_count": 12,
   "metadata": {},
   "outputs": [
    {
     "data": {
      "text/html": [
       "<div>\n",
       "<style scoped>\n",
       "    .dataframe tbody tr th:only-of-type {\n",
       "        vertical-align: middle;\n",
       "    }\n",
       "\n",
       "    .dataframe tbody tr th {\n",
       "        vertical-align: top;\n",
       "    }\n",
       "\n",
       "    .dataframe thead th {\n",
       "        text-align: right;\n",
       "    }\n",
       "</style>\n",
       "<table border=\"1\" class=\"dataframe\">\n",
       "  <thead>\n",
       "    <tr style=\"text-align: right;\">\n",
       "      <th></th>\n",
       "      <th>Country</th>\n",
       "      <th>Datetime</th>\n",
       "      <th>Tweet Id</th>\n",
       "      <th>Text</th>\n",
       "      <th>Username</th>\n",
       "      <th>Tweets_clean</th>\n",
       "    </tr>\n",
       "  </thead>\n",
       "  <tbody>\n",
       "    <tr>\n",
       "      <th>0</th>\n",
       "      <td>Argentina</td>\n",
       "      <td>2022-12-17 23:55:02+00:00</td>\n",
       "      <td>1604263934730854406</td>\n",
       "      <td>Ex-Manchester United captain predicts the winn...</td>\n",
       "      <td>sportnewsblogd1</td>\n",
       "      <td>united captain the winner of world cup 2022 fi...</td>\n",
       "    </tr>\n",
       "    <tr>\n",
       "      <th>1</th>\n",
       "      <td>Argentina</td>\n",
       "      <td>2022-12-17 23:48:26+00:00</td>\n",
       "      <td>1604262273543176192</td>\n",
       "      <td>@FIFAWorldCup This it's gonna be tight game an...</td>\n",
       "      <td>im_abhay4u</td>\n",
       "      <td>this its be tight game and will 🏆🇦🇷💙</td>\n",
       "    </tr>\n",
       "    <tr>\n",
       "      <th>2</th>\n",
       "      <td>Argentina</td>\n",
       "      <td>2022-12-17 23:48:06+00:00</td>\n",
       "      <td>1604262191812722688</td>\n",
       "      <td>@FIFAWorldCup While everyone is waiting for th...</td>\n",
       "      <td>i8u9i</td>\n",
       "      <td>while everyone is waiting for the world cup fi...</td>\n",
       "    </tr>\n",
       "    <tr>\n",
       "      <th>3</th>\n",
       "      <td>Argentina</td>\n",
       "      <td>2022-12-17 23:46:08+00:00</td>\n",
       "      <td>1604261695597207557</td>\n",
       "      <td>@FIFAWorldCup Don't mess it up with your unfai...</td>\n",
       "      <td>Bal_Aissata</td>\n",
       "      <td>dont mess it up with your unfair referee in fa...</td>\n",
       "    </tr>\n",
       "    <tr>\n",
       "      <th>4</th>\n",
       "      <td>Argentina</td>\n",
       "      <td>2022-12-17 23:46:06+00:00</td>\n",
       "      <td>1604261686399176704</td>\n",
       "      <td>Mbappe please humble Argentina and messi! Save...</td>\n",
       "      <td>md7y_</td>\n",
       "      <td>please humble and save humanity from an upcomi...</td>\n",
       "    </tr>\n",
       "  </tbody>\n",
       "</table>\n",
       "</div>"
      ],
      "text/plain": [
       "     Country                  Datetime             Tweet Id  \\\n",
       "0  Argentina 2022-12-17 23:55:02+00:00  1604263934730854406   \n",
       "1  Argentina 2022-12-17 23:48:26+00:00  1604262273543176192   \n",
       "2  Argentina 2022-12-17 23:48:06+00:00  1604262191812722688   \n",
       "3  Argentina 2022-12-17 23:46:08+00:00  1604261695597207557   \n",
       "4  Argentina 2022-12-17 23:46:06+00:00  1604261686399176704   \n",
       "\n",
       "                                                Text         Username  \\\n",
       "0  Ex-Manchester United captain predicts the winn...  sportnewsblogd1   \n",
       "1  @FIFAWorldCup This it's gonna be tight game an...       im_abhay4u   \n",
       "2  @FIFAWorldCup While everyone is waiting for th...            i8u9i   \n",
       "3  @FIFAWorldCup Don't mess it up with your unfai...      Bal_Aissata   \n",
       "4  Mbappe please humble Argentina and messi! Save...            md7y_   \n",
       "\n",
       "                                        Tweets_clean  \n",
       "0  united captain the winner of world cup 2022 fi...  \n",
       "1               this its be tight game and will 🏆🇦🇷💙  \n",
       "2  while everyone is waiting for the world cup fi...  \n",
       "3  dont mess it up with your unfair referee in fa...  \n",
       "4  please humble and save humanity from an upcomi...  "
      ]
     },
     "execution_count": 12,
     "metadata": {},
     "output_type": "execute_result"
    }
   ],
   "source": [
    "tweets_data[\"Tweets_clean\"] = tweets_data[\"Text\"].apply(lambda x: preprocess(x))\n",
    "\n",
    "tweets_data.head()"
   ]
  },
  {
   "cell_type": "code",
   "execution_count": 13,
   "metadata": {},
   "outputs": [],
   "source": [
    "# Save csv\n",
    "#tweets_data.to_csv(\"tweets_data.csv\", index=False)"
   ]
  },
  {
   "cell_type": "code",
   "execution_count": 6,
   "metadata": {},
   "outputs": [
    {
     "data": {
      "text/html": [
       "<div>\n",
       "<style scoped>\n",
       "    .dataframe tbody tr th:only-of-type {\n",
       "        vertical-align: middle;\n",
       "    }\n",
       "\n",
       "    .dataframe tbody tr th {\n",
       "        vertical-align: top;\n",
       "    }\n",
       "\n",
       "    .dataframe thead th {\n",
       "        text-align: right;\n",
       "    }\n",
       "</style>\n",
       "<table border=\"1\" class=\"dataframe\">\n",
       "  <thead>\n",
       "    <tr style=\"text-align: right;\">\n",
       "      <th></th>\n",
       "      <th>Country</th>\n",
       "      <th>Datetime</th>\n",
       "      <th>Tweet Id</th>\n",
       "      <th>Text</th>\n",
       "      <th>Username</th>\n",
       "    </tr>\n",
       "  </thead>\n",
       "  <tbody>\n",
       "    <tr>\n",
       "      <th>0</th>\n",
       "      <td>Argentina</td>\n",
       "      <td>2022-12-17 23:55:02+00:00</td>\n",
       "      <td>1604263934730854406</td>\n",
       "      <td>Ex-Manchester United captain predicts the winn...</td>\n",
       "      <td>sportnewsblogd1</td>\n",
       "    </tr>\n",
       "    <tr>\n",
       "      <th>1</th>\n",
       "      <td>Argentina</td>\n",
       "      <td>2022-12-17 23:48:26+00:00</td>\n",
       "      <td>1604262273543176192</td>\n",
       "      <td>@FIFAWorldCup This it's gonna be tight game an...</td>\n",
       "      <td>im_abhay4u</td>\n",
       "    </tr>\n",
       "    <tr>\n",
       "      <th>2</th>\n",
       "      <td>Argentina</td>\n",
       "      <td>2022-12-17 23:48:06+00:00</td>\n",
       "      <td>1604262191812722688</td>\n",
       "      <td>@FIFAWorldCup While everyone is waiting for th...</td>\n",
       "      <td>i8u9i</td>\n",
       "    </tr>\n",
       "    <tr>\n",
       "      <th>3</th>\n",
       "      <td>Argentina</td>\n",
       "      <td>2022-12-17 23:46:08+00:00</td>\n",
       "      <td>1604261695597207557</td>\n",
       "      <td>@FIFAWorldCup Don't mess it up with your unfai...</td>\n",
       "      <td>Bal_Aissata</td>\n",
       "    </tr>\n",
       "    <tr>\n",
       "      <th>4</th>\n",
       "      <td>Argentina</td>\n",
       "      <td>2022-12-17 23:46:06+00:00</td>\n",
       "      <td>1604261686399176704</td>\n",
       "      <td>Mbappe please humble Argentina and messi! Save...</td>\n",
       "      <td>md7y_</td>\n",
       "    </tr>\n",
       "    <tr>\n",
       "      <th>...</th>\n",
       "      <td>...</td>\n",
       "      <td>...</td>\n",
       "      <td>...</td>\n",
       "      <td>...</td>\n",
       "      <td>...</td>\n",
       "    </tr>\n",
       "    <tr>\n",
       "      <th>6395</th>\n",
       "      <td>Wales</td>\n",
       "      <td>2022-11-30 01:49:22+00:00</td>\n",
       "      <td>1597769726775939072</td>\n",
       "      <td>England eliminated Wales 3-0 and faces the sen...</td>\n",
       "      <td>NubianThinker</td>\n",
       "    </tr>\n",
       "    <tr>\n",
       "      <th>6396</th>\n",
       "      <td>Wales</td>\n",
       "      <td>2022-11-30 01:35:55+00:00</td>\n",
       "      <td>1597766342123597825</td>\n",
       "      <td>Marcus Rashford's eye-catching performance in ...</td>\n",
       "      <td>Sports_NDTV</td>\n",
       "    </tr>\n",
       "    <tr>\n",
       "      <th>6397</th>\n",
       "      <td>Wales</td>\n",
       "      <td>2022-11-30 01:14:38+00:00</td>\n",
       "      <td>1597760985590337536</td>\n",
       "      <td>Marcus Rashford and Phil Foden helped England ...</td>\n",
       "      <td>PakPassionSport</td>\n",
       "    </tr>\n",
       "    <tr>\n",
       "      <th>6398</th>\n",
       "      <td>Wales</td>\n",
       "      <td>2022-11-30 01:10:01+00:00</td>\n",
       "      <td>1597759825018245120</td>\n",
       "      <td>@bojcodes @FIFAWorldCup Wales and England are ...</td>\n",
       "      <td>AWerewolfNot</td>\n",
       "    </tr>\n",
       "    <tr>\n",
       "      <th>6399</th>\n",
       "      <td>Wales</td>\n",
       "      <td>2022-11-30 01:07:18+00:00</td>\n",
       "      <td>1597759140142645249</td>\n",
       "      <td>Two goals from Marcus Rashford and a further b...</td>\n",
       "      <td>ESPN_Caribbean</td>\n",
       "    </tr>\n",
       "  </tbody>\n",
       "</table>\n",
       "<p>6400 rows × 5 columns</p>\n",
       "</div>"
      ],
      "text/plain": [
       "        Country                   Datetime             Tweet Id  \\\n",
       "0     Argentina  2022-12-17 23:55:02+00:00  1604263934730854406   \n",
       "1     Argentina  2022-12-17 23:48:26+00:00  1604262273543176192   \n",
       "2     Argentina  2022-12-17 23:48:06+00:00  1604262191812722688   \n",
       "3     Argentina  2022-12-17 23:46:08+00:00  1604261695597207557   \n",
       "4     Argentina  2022-12-17 23:46:06+00:00  1604261686399176704   \n",
       "...         ...                        ...                  ...   \n",
       "6395      Wales  2022-11-30 01:49:22+00:00  1597769726775939072   \n",
       "6396      Wales  2022-11-30 01:35:55+00:00  1597766342123597825   \n",
       "6397      Wales  2022-11-30 01:14:38+00:00  1597760985590337536   \n",
       "6398      Wales  2022-11-30 01:10:01+00:00  1597759825018245120   \n",
       "6399      Wales  2022-11-30 01:07:18+00:00  1597759140142645249   \n",
       "\n",
       "                                                   Text         Username  \n",
       "0     Ex-Manchester United captain predicts the winn...  sportnewsblogd1  \n",
       "1     @FIFAWorldCup This it's gonna be tight game an...       im_abhay4u  \n",
       "2     @FIFAWorldCup While everyone is waiting for th...            i8u9i  \n",
       "3     @FIFAWorldCup Don't mess it up with your unfai...      Bal_Aissata  \n",
       "4     Mbappe please humble Argentina and messi! Save...            md7y_  \n",
       "...                                                 ...              ...  \n",
       "6395  England eliminated Wales 3-0 and faces the sen...    NubianThinker  \n",
       "6396  Marcus Rashford's eye-catching performance in ...      Sports_NDTV  \n",
       "6397  Marcus Rashford and Phil Foden helped England ...  PakPassionSport  \n",
       "6398  @bojcodes @FIFAWorldCup Wales and England are ...     AWerewolfNot  \n",
       "6399  Two goals from Marcus Rashford and a further b...   ESPN_Caribbean  \n",
       "\n",
       "[6400 rows x 5 columns]"
      ]
     },
     "execution_count": 6,
     "metadata": {},
     "output_type": "execute_result"
    }
   ],
   "source": [
    "tweets_data = pd.read_csv(\"tweets_data.csv\")"
   ]
  },
  {
   "cell_type": "code",
   "execution_count": 4,
   "metadata": {},
   "outputs": [],
   "source": [
    "# Vader Sentiment analysis\n",
    "vader = SentimentIntensityAnalyzer()"
   ]
  },
  {
   "cell_type": "code",
   "execution_count": 14,
   "metadata": {},
   "outputs": [
    {
     "name": "stdout",
     "output_type": "stream",
     "text": [
      "{'neg': 0.0, 'neu': 0.577, 'pos': 0.423, 'compound': 0.765}\n"
     ]
    }
   ],
   "source": [
    "# Test\n",
    "test = vader.polarity_scores(tweets_data[\"Tweets_clean\"][0])\n",
    "print(test)"
   ]
  },
  {
   "cell_type": "code",
   "execution_count": 15,
   "metadata": {},
   "outputs": [],
   "source": [
    "# Sentiment analysis\n",
    "score = []\n",
    "\n",
    "for i in range(len(tweets_data[\"Tweets_clean\"])):\n",
    "    sentiment_analysis = vader.polarity_scores(tweets_data[\"Tweets_clean\"][i])\n",
    "    score.append(sentiment_analysis[\"compound\"])\n"
   ]
  },
  {
   "cell_type": "code",
   "execution_count": 16,
   "metadata": {},
   "outputs": [],
   "source": [
    "# Sentiment analysis\n",
    "label = []\n",
    "\n",
    "for compound in score:\n",
    "    if compound > 0.5:\n",
    "        label.append(\"Positive\")\n",
    "    elif compound < -0.5:\n",
    "        label.append(\"Negative\")\n",
    "    else:\n",
    "        label.append(\"Neutral\")"
   ]
  },
  {
   "cell_type": "code",
   "execution_count": 17,
   "metadata": {},
   "outputs": [],
   "source": [
    "# Add the sentiment analysis to tweets dataframe\n",
    "tweets_data[\"VADER_class\"] = label\n",
    "tweets_data[\"VADER_score\"] = score"
   ]
  },
  {
   "cell_type": "code",
   "execution_count": 20,
   "metadata": {},
   "outputs": [
    {
     "data": {
      "text/html": [
       "<div>\n",
       "<style scoped>\n",
       "    .dataframe tbody tr th:only-of-type {\n",
       "        vertical-align: middle;\n",
       "    }\n",
       "\n",
       "    .dataframe tbody tr th {\n",
       "        vertical-align: top;\n",
       "    }\n",
       "\n",
       "    .dataframe thead th {\n",
       "        text-align: right;\n",
       "    }\n",
       "</style>\n",
       "<table border=\"1\" class=\"dataframe\">\n",
       "  <thead>\n",
       "    <tr style=\"text-align: right;\">\n",
       "      <th></th>\n",
       "      <th>Country</th>\n",
       "      <th>Datetime</th>\n",
       "      <th>Tweet Id</th>\n",
       "      <th>Text</th>\n",
       "      <th>Username</th>\n",
       "      <th>Tweets_clean</th>\n",
       "      <th>VADER_class</th>\n",
       "      <th>VADER_score</th>\n",
       "    </tr>\n",
       "  </thead>\n",
       "  <tbody>\n",
       "    <tr>\n",
       "      <th>0</th>\n",
       "      <td>Argentina</td>\n",
       "      <td>2022-12-17 23:55:02+00:00</td>\n",
       "      <td>1604263934730854406</td>\n",
       "      <td>Ex-Manchester United captain predicts the winn...</td>\n",
       "      <td>sportnewsblogd1</td>\n",
       "      <td>united captain the winner of world cup 2022 fi...</td>\n",
       "      <td>Positive</td>\n",
       "      <td>0.7650</td>\n",
       "    </tr>\n",
       "    <tr>\n",
       "      <th>1</th>\n",
       "      <td>Argentina</td>\n",
       "      <td>2022-12-17 23:48:26+00:00</td>\n",
       "      <td>1604262273543176192</td>\n",
       "      <td>@FIFAWorldCup This it's gonna be tight game an...</td>\n",
       "      <td>im_abhay4u</td>\n",
       "      <td>this its be tight game and will 🏆🇦🇷💙</td>\n",
       "      <td>Positive</td>\n",
       "      <td>0.6369</td>\n",
       "    </tr>\n",
       "    <tr>\n",
       "      <th>2</th>\n",
       "      <td>Argentina</td>\n",
       "      <td>2022-12-17 23:48:06+00:00</td>\n",
       "      <td>1604262191812722688</td>\n",
       "      <td>@FIFAWorldCup While everyone is waiting for th...</td>\n",
       "      <td>i8u9i</td>\n",
       "      <td>while everyone is waiting for the world cup fi...</td>\n",
       "      <td>Positive</td>\n",
       "      <td>0.5994</td>\n",
       "    </tr>\n",
       "    <tr>\n",
       "      <th>3</th>\n",
       "      <td>Argentina</td>\n",
       "      <td>2022-12-17 23:46:08+00:00</td>\n",
       "      <td>1604261695597207557</td>\n",
       "      <td>@FIFAWorldCup Don't mess it up with your unfai...</td>\n",
       "      <td>Bal_Aissata</td>\n",
       "      <td>dont mess it up with your unfair referee in fa...</td>\n",
       "      <td>Positive</td>\n",
       "      <td>0.6261</td>\n",
       "    </tr>\n",
       "    <tr>\n",
       "      <th>4</th>\n",
       "      <td>Argentina</td>\n",
       "      <td>2022-12-17 23:46:06+00:00</td>\n",
       "      <td>1604261686399176704</td>\n",
       "      <td>Mbappe please humble Argentina and messi! Save...</td>\n",
       "      <td>md7y_</td>\n",
       "      <td>please humble and save humanity from an upcomi...</td>\n",
       "      <td>Neutral</td>\n",
       "      <td>0.0258</td>\n",
       "    </tr>\n",
       "  </tbody>\n",
       "</table>\n",
       "</div>"
      ],
      "text/plain": [
       "     Country                   Datetime             Tweet Id  \\\n",
       "0  Argentina  2022-12-17 23:55:02+00:00  1604263934730854406   \n",
       "1  Argentina  2022-12-17 23:48:26+00:00  1604262273543176192   \n",
       "2  Argentina  2022-12-17 23:48:06+00:00  1604262191812722688   \n",
       "3  Argentina  2022-12-17 23:46:08+00:00  1604261695597207557   \n",
       "4  Argentina  2022-12-17 23:46:06+00:00  1604261686399176704   \n",
       "\n",
       "                                                Text         Username  \\\n",
       "0  Ex-Manchester United captain predicts the winn...  sportnewsblogd1   \n",
       "1  @FIFAWorldCup This it's gonna be tight game an...       im_abhay4u   \n",
       "2  @FIFAWorldCup While everyone is waiting for th...            i8u9i   \n",
       "3  @FIFAWorldCup Don't mess it up with your unfai...      Bal_Aissata   \n",
       "4  Mbappe please humble Argentina and messi! Save...            md7y_   \n",
       "\n",
       "                                        Tweets_clean VADER_class  VADER_score  \n",
       "0  united captain the winner of world cup 2022 fi...    Positive       0.7650  \n",
       "1               this its be tight game and will 🏆🇦🇷💙    Positive       0.6369  \n",
       "2  while everyone is waiting for the world cup fi...    Positive       0.5994  \n",
       "3  dont mess it up with your unfair referee in fa...    Positive       0.6261  \n",
       "4  please humble and save humanity from an upcomi...     Neutral       0.0258  "
      ]
     },
     "execution_count": 20,
     "metadata": {},
     "output_type": "execute_result"
    }
   ],
   "source": [
    "tweets_data.head()"
   ]
  },
  {
   "cell_type": "code",
   "execution_count": null,
   "metadata": {},
   "outputs": [],
   "source": [
    "# Save csv\n",
    "#tweets_data.to_csv(\"tweets_sentiment.csv\", index=False)"
   ]
  },
  {
   "cell_type": "code",
   "execution_count": 11,
   "metadata": {},
   "outputs": [],
   "source": [
    "#  Calculate mean, median, and standard deviation for analyze the sentiment scores\n",
    "mean_score = tweets_data.groupby([\"Country\"], as_index=False)[\"VADER_score\"].mean().rename(columns={\"VADER_score\": \"Mean_score\"})\n",
    "median_score = tweets_data.groupby([\"Country\"], as_index=False)[\"VADER_score\"].median().rename(columns={\"VADER_score\": \"Median_score\"})\n",
    "std_score = tweets_data.groupby([\"Country\"], as_index=False)[\"VADER_score\"].std().rename(columns={\"VADER_score\": \"Std_score\"})\n",
    "Country_ = pd.merge(mean_score, median_score, on=\"Country\")\n",
    "Country_ = pd.merge(Country_, std_score, on=\"Country\")"
   ]
  },
  {
   "cell_type": "code",
   "execution_count": 12,
   "metadata": {},
   "outputs": [
    {
     "data": {
      "text/html": [
       "<div>\n",
       "<style scoped>\n",
       "    .dataframe tbody tr th:only-of-type {\n",
       "        vertical-align: middle;\n",
       "    }\n",
       "\n",
       "    .dataframe tbody tr th {\n",
       "        vertical-align: top;\n",
       "    }\n",
       "\n",
       "    .dataframe thead th {\n",
       "        text-align: right;\n",
       "    }\n",
       "</style>\n",
       "<table border=\"1\" class=\"dataframe\">\n",
       "  <thead>\n",
       "    <tr style=\"text-align: right;\">\n",
       "      <th></th>\n",
       "      <th>Country</th>\n",
       "      <th>Mean_score</th>\n",
       "      <th>Median_score</th>\n",
       "      <th>Std_score</th>\n",
       "    </tr>\n",
       "  </thead>\n",
       "  <tbody>\n",
       "    <tr>\n",
       "      <th>0</th>\n",
       "      <td>Argentina</td>\n",
       "      <td>0.351650</td>\n",
       "      <td>0.4404</td>\n",
       "      <td>0.418743</td>\n",
       "    </tr>\n",
       "    <tr>\n",
       "      <th>1</th>\n",
       "      <td>Australia</td>\n",
       "      <td>0.217420</td>\n",
       "      <td>0.0129</td>\n",
       "      <td>0.471765</td>\n",
       "    </tr>\n",
       "    <tr>\n",
       "      <th>2</th>\n",
       "      <td>Belgium</td>\n",
       "      <td>0.193557</td>\n",
       "      <td>0.0387</td>\n",
       "      <td>0.420133</td>\n",
       "    </tr>\n",
       "    <tr>\n",
       "      <th>3</th>\n",
       "      <td>Brazil</td>\n",
       "      <td>0.260088</td>\n",
       "      <td>0.2500</td>\n",
       "      <td>0.436248</td>\n",
       "    </tr>\n",
       "    <tr>\n",
       "      <th>4</th>\n",
       "      <td>Cameroon</td>\n",
       "      <td>0.271504</td>\n",
       "      <td>0.2023</td>\n",
       "      <td>0.404690</td>\n",
       "    </tr>\n",
       "  </tbody>\n",
       "</table>\n",
       "</div>"
      ],
      "text/plain": [
       "     Country  Mean_score  Median_score  Std_score\n",
       "0  Argentina    0.351650        0.4404   0.418743\n",
       "1  Australia    0.217420        0.0129   0.471765\n",
       "2    Belgium    0.193557        0.0387   0.420133\n",
       "3     Brazil    0.260088        0.2500   0.436248\n",
       "4   Cameroon    0.271504        0.2023   0.404690"
      ]
     },
     "execution_count": 12,
     "metadata": {},
     "output_type": "execute_result"
    }
   ],
   "source": [
    "Country_.head()"
   ]
  },
  {
   "cell_type": "code",
   "execution_count": 21,
   "metadata": {},
   "outputs": [
    {
     "data": {
      "text/html": [
       "<div>\n",
       "<style scoped>\n",
       "    .dataframe tbody tr th:only-of-type {\n",
       "        vertical-align: middle;\n",
       "    }\n",
       "\n",
       "    .dataframe tbody tr th {\n",
       "        vertical-align: top;\n",
       "    }\n",
       "\n",
       "    .dataframe thead th {\n",
       "        text-align: right;\n",
       "    }\n",
       "</style>\n",
       "<table border=\"1\" class=\"dataframe\">\n",
       "  <thead>\n",
       "    <tr style=\"text-align: right;\">\n",
       "      <th></th>\n",
       "      <th>Country</th>\n",
       "      <th>MP</th>\n",
       "      <th>Gls</th>\n",
       "      <th>GA</th>\n",
       "    </tr>\n",
       "  </thead>\n",
       "  <tbody>\n",
       "    <tr>\n",
       "      <th>0</th>\n",
       "      <td>Argentina</td>\n",
       "      <td>7</td>\n",
       "      <td>2.14</td>\n",
       "      <td>1.14</td>\n",
       "    </tr>\n",
       "    <tr>\n",
       "      <th>1</th>\n",
       "      <td>Australia</td>\n",
       "      <td>4</td>\n",
       "      <td>0.75</td>\n",
       "      <td>1.50</td>\n",
       "    </tr>\n",
       "    <tr>\n",
       "      <th>2</th>\n",
       "      <td>Belgium</td>\n",
       "      <td>3</td>\n",
       "      <td>0.33</td>\n",
       "      <td>1.50</td>\n",
       "    </tr>\n",
       "    <tr>\n",
       "      <th>3</th>\n",
       "      <td>Brazil</td>\n",
       "      <td>5</td>\n",
       "      <td>1.60</td>\n",
       "      <td>0.60</td>\n",
       "    </tr>\n",
       "    <tr>\n",
       "      <th>4</th>\n",
       "      <td>Cameroon</td>\n",
       "      <td>3</td>\n",
       "      <td>1.33</td>\n",
       "      <td>1.33</td>\n",
       "    </tr>\n",
       "  </tbody>\n",
       "</table>\n",
       "</div>"
      ],
      "text/plain": [
       "     Country  MP   Gls    GA\n",
       "0  Argentina   7  2.14  1.14\n",
       "1  Australia   4  0.75  1.50\n",
       "2    Belgium   3  0.33  1.50\n",
       "3     Brazil   5  1.60  0.60\n",
       "4   Cameroon   3  1.33  1.33"
      ]
     },
     "execution_count": 21,
     "metadata": {},
     "output_type": "execute_result"
    }
   ],
   "source": [
    "# 2022 World cup data\n",
    "fifa = pd.read_csv(\"./FIFA CSV 22.csv\")\n",
    "fifa.head()"
   ]
  },
  {
   "cell_type": "code",
   "execution_count": 22,
   "metadata": {},
   "outputs": [],
   "source": [
    "# Performace measurement\n",
    "def performance(GLS,GA):\n",
    "    performance = (GLS - GA)/2\n",
    "    return performance"
   ]
  },
  {
   "cell_type": "code",
   "execution_count": 23,
   "metadata": {},
   "outputs": [
    {
     "data": {
      "text/plain": [
       "0     0.500\n",
       "1    -0.375\n",
       "2    -0.585\n",
       "3     0.500\n",
       "4     0.000\n",
       "5    -1.000\n",
       "6    -1.330\n",
       "7     0.070\n",
       "8    -0.335\n",
       "9     0.165\n",
       "10    0.900\n",
       "11    0.570\n",
       "12    0.170\n",
       "13   -0.335\n",
       "14   -0.500\n",
       "15    0.125\n",
       "16   -0.375\n",
       "17   -0.170\n",
       "18    0.070\n",
       "19    0.600\n",
       "20   -0.250\n",
       "21    0.600\n",
       "22   -1.000\n",
       "23   -0.330\n",
       "24   -0.250\n",
       "25   -0.500\n",
       "26    0.750\n",
       "27   -0.500\n",
       "28    0.000\n",
       "29   -0.125\n",
       "30   -0.150\n",
       "31   -0.835\n",
       "dtype: float64"
      ]
     },
     "execution_count": 23,
     "metadata": {},
     "output_type": "execute_result"
    }
   ],
   "source": [
    "# Performace score\n",
    "performance(fifa[\"Gls\"],fifa[\"GA\"])"
   ]
  },
  {
   "cell_type": "code",
   "execution_count": 24,
   "metadata": {},
   "outputs": [
    {
     "data": {
      "text/html": [
       "<div>\n",
       "<style scoped>\n",
       "    .dataframe tbody tr th:only-of-type {\n",
       "        vertical-align: middle;\n",
       "    }\n",
       "\n",
       "    .dataframe tbody tr th {\n",
       "        vertical-align: top;\n",
       "    }\n",
       "\n",
       "    .dataframe thead th {\n",
       "        text-align: right;\n",
       "    }\n",
       "</style>\n",
       "<table border=\"1\" class=\"dataframe\">\n",
       "  <thead>\n",
       "    <tr style=\"text-align: right;\">\n",
       "      <th></th>\n",
       "      <th>Country</th>\n",
       "      <th>MP</th>\n",
       "      <th>Gls</th>\n",
       "      <th>GA</th>\n",
       "      <th>Performance</th>\n",
       "    </tr>\n",
       "  </thead>\n",
       "  <tbody>\n",
       "    <tr>\n",
       "      <th>0</th>\n",
       "      <td>Argentina</td>\n",
       "      <td>7</td>\n",
       "      <td>2.14</td>\n",
       "      <td>1.14</td>\n",
       "      <td>0.500</td>\n",
       "    </tr>\n",
       "    <tr>\n",
       "      <th>1</th>\n",
       "      <td>Australia</td>\n",
       "      <td>4</td>\n",
       "      <td>0.75</td>\n",
       "      <td>1.50</td>\n",
       "      <td>-0.375</td>\n",
       "    </tr>\n",
       "    <tr>\n",
       "      <th>2</th>\n",
       "      <td>Belgium</td>\n",
       "      <td>3</td>\n",
       "      <td>0.33</td>\n",
       "      <td>1.50</td>\n",
       "      <td>-0.585</td>\n",
       "    </tr>\n",
       "    <tr>\n",
       "      <th>3</th>\n",
       "      <td>Brazil</td>\n",
       "      <td>5</td>\n",
       "      <td>1.60</td>\n",
       "      <td>0.60</td>\n",
       "      <td>0.500</td>\n",
       "    </tr>\n",
       "    <tr>\n",
       "      <th>4</th>\n",
       "      <td>Cameroon</td>\n",
       "      <td>3</td>\n",
       "      <td>1.33</td>\n",
       "      <td>1.33</td>\n",
       "      <td>0.000</td>\n",
       "    </tr>\n",
       "  </tbody>\n",
       "</table>\n",
       "</div>"
      ],
      "text/plain": [
       "     Country  MP   Gls    GA  Performance\n",
       "0  Argentina   7  2.14  1.14        0.500\n",
       "1  Australia   4  0.75  1.50       -0.375\n",
       "2    Belgium   3  0.33  1.50       -0.585\n",
       "3     Brazil   5  1.60  0.60        0.500\n",
       "4   Cameroon   3  1.33  1.33        0.000"
      ]
     },
     "execution_count": 24,
     "metadata": {},
     "output_type": "execute_result"
    }
   ],
   "source": [
    "# Add performance score to dataframe\n",
    "fifa[\"Performance\"] = performance(fifa[\"Gls\"],fifa[\"GA\"])\n",
    "fifa.head()"
   ]
  },
  {
   "cell_type": "code",
   "execution_count": 25,
   "metadata": {},
   "outputs": [
    {
     "data": {
      "text/html": [
       "<div>\n",
       "<style scoped>\n",
       "    .dataframe tbody tr th:only-of-type {\n",
       "        vertical-align: middle;\n",
       "    }\n",
       "\n",
       "    .dataframe tbody tr th {\n",
       "        vertical-align: top;\n",
       "    }\n",
       "\n",
       "    .dataframe thead th {\n",
       "        text-align: right;\n",
       "    }\n",
       "</style>\n",
       "<table border=\"1\" class=\"dataframe\">\n",
       "  <thead>\n",
       "    <tr style=\"text-align: right;\">\n",
       "      <th></th>\n",
       "      <th>Country</th>\n",
       "      <th>Mean_score</th>\n",
       "      <th>Median_score</th>\n",
       "      <th>Std_score</th>\n",
       "      <th>MP</th>\n",
       "      <th>Gls</th>\n",
       "      <th>GA</th>\n",
       "      <th>Performance</th>\n",
       "    </tr>\n",
       "  </thead>\n",
       "  <tbody>\n",
       "    <tr>\n",
       "      <th>0</th>\n",
       "      <td>Argentina</td>\n",
       "      <td>0.351650</td>\n",
       "      <td>0.44040</td>\n",
       "      <td>0.418743</td>\n",
       "      <td>7</td>\n",
       "      <td>2.14</td>\n",
       "      <td>1.14</td>\n",
       "      <td>0.500</td>\n",
       "    </tr>\n",
       "    <tr>\n",
       "      <th>1</th>\n",
       "      <td>Australia</td>\n",
       "      <td>0.217420</td>\n",
       "      <td>0.01290</td>\n",
       "      <td>0.471765</td>\n",
       "      <td>4</td>\n",
       "      <td>0.75</td>\n",
       "      <td>1.50</td>\n",
       "      <td>-0.375</td>\n",
       "    </tr>\n",
       "    <tr>\n",
       "      <th>2</th>\n",
       "      <td>Belgium</td>\n",
       "      <td>0.193557</td>\n",
       "      <td>0.03870</td>\n",
       "      <td>0.420133</td>\n",
       "      <td>3</td>\n",
       "      <td>0.33</td>\n",
       "      <td>1.50</td>\n",
       "      <td>-0.585</td>\n",
       "    </tr>\n",
       "    <tr>\n",
       "      <th>3</th>\n",
       "      <td>Brazil</td>\n",
       "      <td>0.261997</td>\n",
       "      <td>0.25445</td>\n",
       "      <td>0.435939</td>\n",
       "      <td>5</td>\n",
       "      <td>1.60</td>\n",
       "      <td>0.60</td>\n",
       "      <td>0.500</td>\n",
       "    </tr>\n",
       "    <tr>\n",
       "      <th>4</th>\n",
       "      <td>Cameroon</td>\n",
       "      <td>0.271504</td>\n",
       "      <td>0.20230</td>\n",
       "      <td>0.404690</td>\n",
       "      <td>3</td>\n",
       "      <td>1.33</td>\n",
       "      <td>1.33</td>\n",
       "      <td>0.000</td>\n",
       "    </tr>\n",
       "  </tbody>\n",
       "</table>\n",
       "</div>"
      ],
      "text/plain": [
       "     Country  Mean_score  Median_score  Std_score  MP   Gls    GA  Performance\n",
       "0  Argentina    0.351650       0.44040   0.418743   7  2.14  1.14        0.500\n",
       "1  Australia    0.217420       0.01290   0.471765   4  0.75  1.50       -0.375\n",
       "2    Belgium    0.193557       0.03870   0.420133   3  0.33  1.50       -0.585\n",
       "3     Brazil    0.261997       0.25445   0.435939   5  1.60  0.60        0.500\n",
       "4   Cameroon    0.271504       0.20230   0.404690   3  1.33  1.33        0.000"
      ]
     },
     "execution_count": 25,
     "metadata": {},
     "output_type": "execute_result"
    }
   ],
   "source": [
    "# Merge mean, median, standard deviation and performance scores in a dataframe\n",
    "tweets_performance = Country_.merge(fifa,on=\"Country\")\n",
    "tweets_performance.head()"
   ]
  },
  {
   "cell_type": "code",
   "execution_count": 37,
   "metadata": {},
   "outputs": [],
   "source": [
    "# Save final dataset\n",
    "#tweets_performance.to_csv(\"tweets_sentiment_performance.csv\", index=False)"
   ]
  },
  {
   "cell_type": "code",
   "execution_count": 3,
   "metadata": {},
   "outputs": [
    {
     "name": "stdout",
     "output_type": "stream",
     "text": [
      "(0.25640495928776574, 0.15661534183676534)\n",
      "(0.34641373053373425, 0.05210516279663612)\n",
      "(0.1188906575895279, 0.5169240864080457)\n"
     ]
    }
   ],
   "source": [
    "# Pearson correlation coefficient\n",
    "pearson_correlation_mean = stats.pearsonr(tweets_performance[\"Mean_score\"],tweets_performance[\"Performance\"])\n",
    "pearson_correlation_median = stats.pearsonr(tweets_performance[\"Median_score\"],tweets_performance[\"Performance\"])\n",
    "pearson_correlation_sd = stats.pearsonr(tweets_performance[\"Std_score\"],tweets_performance[\"Performance\"])\n",
    "\n",
    "print(pearson_correlation_mean)\n",
    "print(pearson_correlation_median)\n",
    "print(pearson_correlation_sd)"
   ]
  },
  {
   "cell_type": "code",
   "execution_count": 4,
   "metadata": {},
   "outputs": [],
   "source": [
    "# Set color\n",
    "colors = [    \"#1f77b4\",    \"#aec7e8\",    \"#ff7f0e\",    \"#ffbb78\",    \"#2ca02c\",    \n",
    "            \"#98df8a\",    \"#d62728\",    \"#ff9896\",    \"#9467bd\",    \"#c5b0d5\",   \n",
    "             \"#8c564b\",    \"#c49c94\",    \"#e377c2\",    \"#f7b6d2\",    \"#7f7f7f\",    \n",
    "             \"#c7c7c7\",    \"#bcbd22\",    \"#dbdb8d\",    \"#17becf\",    \"#9edae5\",    \n",
    "             \"#e6550d\",    \"#fd8d3c\",    \"#6baed6\",    \"#74c476\",    \"#9e9ac8\",    \n",
    "             \"#fdae6b\",    \"#8dd3c7\",    \"#b3de69\",    \"#fccde5\",    \"#d9d9d9\",    \n",
    "             \"#bc80bd\",    \"#ccebc5\",    \"#ffed6f\",    \"#e41a1c\",    \"#377eb8\",    \n",
    "             \"#4daf4a\",    \"#984ea3\",    \"#ff7f00\",    \"#ffff33\"]\n"
   ]
  },
  {
   "cell_type": "code",
   "execution_count": 5,
   "metadata": {},
   "outputs": [
    {
     "data": {
      "application/vnd.plotly.v1+json": {
       "config": {
        "plotlyServerURL": "https://plot.ly"
       },
       "data": [
        {
         "hovertemplate": "Country=Argentina<br>Mean_score=%{x}<br>Performance=%{y}<extra></extra>",
         "legendgroup": "Argentina",
         "marker": {
          "color": "#1f77b4",
          "line": {
           "color": "black",
           "width": 1
          },
          "size": 12,
          "symbol": "circle"
         },
         "mode": "markers",
         "name": "Argentina",
         "orientation": "v",
         "showlegend": true,
         "type": "scatter",
         "x": [
          0.35165
         ],
         "xaxis": "x",
         "y": [
          0.5000000000000001
         ],
         "yaxis": "y"
        },
        {
         "hovertemplate": "Country=Australia<br>Mean_score=%{x}<br>Performance=%{y}<extra></extra>",
         "legendgroup": "Australia",
         "marker": {
          "color": "#aec7e8",
          "line": {
           "color": "black",
           "width": 1
          },
          "size": 12,
          "symbol": "circle"
         },
         "mode": "markers",
         "name": "Australia",
         "orientation": "v",
         "showlegend": true,
         "type": "scatter",
         "x": [
          0.21742
         ],
         "xaxis": "x",
         "y": [
          -0.375
         ],
         "yaxis": "y"
        },
        {
         "hovertemplate": "Country=Belgium<br>Mean_score=%{x}<br>Performance=%{y}<extra></extra>",
         "legendgroup": "Belgium",
         "marker": {
          "color": "#ff7f0e",
          "line": {
           "color": "black",
           "width": 1
          },
          "size": 12,
          "symbol": "circle"
         },
         "mode": "markers",
         "name": "Belgium",
         "orientation": "v",
         "showlegend": true,
         "type": "scatter",
         "x": [
          0.1935569999999999
         ],
         "xaxis": "x",
         "y": [
          -0.585
         ],
         "yaxis": "y"
        },
        {
         "hovertemplate": "Country=Brazil<br>Mean_score=%{x}<br>Performance=%{y}<extra></extra>",
         "legendgroup": "Brazil",
         "marker": {
          "color": "#ffbb78",
          "line": {
           "color": "black",
           "width": 1
          },
          "size": 12,
          "symbol": "circle"
         },
         "mode": "markers",
         "name": "Brazil",
         "orientation": "v",
         "showlegend": true,
         "type": "scatter",
         "x": [
          0.261997
         ],
         "xaxis": "x",
         "y": [
          0.5
         ],
         "yaxis": "y"
        },
        {
         "hovertemplate": "Country=Cameroon<br>Mean_score=%{x}<br>Performance=%{y}<extra></extra>",
         "legendgroup": "Cameroon",
         "marker": {
          "color": "#2ca02c",
          "line": {
           "color": "black",
           "width": 1
          },
          "size": 12,
          "symbol": "circle"
         },
         "mode": "markers",
         "name": "Cameroon",
         "orientation": "v",
         "showlegend": true,
         "type": "scatter",
         "x": [
          0.2715035
         ],
         "xaxis": "x",
         "y": [
          0
         ],
         "yaxis": "y"
        },
        {
         "hovertemplate": "Country=Canada<br>Mean_score=%{x}<br>Performance=%{y}<extra></extra>",
         "legendgroup": "Canada",
         "marker": {
          "color": "#98df8a",
          "line": {
           "color": "black",
           "width": 1
          },
          "size": 12,
          "symbol": "circle"
         },
         "mode": "markers",
         "name": "Canada",
         "orientation": "v",
         "showlegend": true,
         "type": "scatter",
         "x": [
          0.2587325
         ],
         "xaxis": "x",
         "y": [
          -1
         ],
         "yaxis": "y"
        },
        {
         "hovertemplate": "Country=Costa Rica<br>Mean_score=%{x}<br>Performance=%{y}<extra></extra>",
         "legendgroup": "Costa Rica",
         "marker": {
          "color": "#d62728",
          "line": {
           "color": "black",
           "width": 1
          },
          "size": 12,
          "symbol": "circle"
         },
         "mode": "markers",
         "name": "Costa Rica",
         "orientation": "v",
         "showlegend": true,
         "type": "scatter",
         "x": [
          0.1229035
         ],
         "xaxis": "x",
         "y": [
          -1.33
         ],
         "yaxis": "y"
        },
        {
         "hovertemplate": "Country=Croatia<br>Mean_score=%{x}<br>Performance=%{y}<extra></extra>",
         "legendgroup": "Croatia",
         "marker": {
          "color": "#ff9896",
          "line": {
           "color": "black",
           "width": 1
          },
          "size": 12,
          "symbol": "circle"
         },
         "mode": "markers",
         "name": "Croatia",
         "orientation": "v",
         "showlegend": true,
         "type": "scatter",
         "x": [
          0.2721265
         ],
         "xaxis": "x",
         "y": [
          0.0699999999999999
         ],
         "yaxis": "y"
        },
        {
         "hovertemplate": "Country=Denmark<br>Mean_score=%{x}<br>Performance=%{y}<extra></extra>",
         "legendgroup": "Denmark",
         "marker": {
          "color": "#9467bd",
          "line": {
           "color": "black",
           "width": 1
          },
          "size": 12,
          "symbol": "circle"
         },
         "mode": "markers",
         "name": "Denmark",
         "orientation": "v",
         "showlegend": true,
         "type": "scatter",
         "x": [
          0.180316
         ],
         "xaxis": "x",
         "y": [
          -0.3349999999999999
         ],
         "yaxis": "y"
        },
        {
         "hovertemplate": "Country=Ecuador<br>Mean_score=%{x}<br>Performance=%{y}<extra></extra>",
         "legendgroup": "Ecuador",
         "marker": {
          "color": "#c5b0d5",
          "line": {
           "color": "black",
           "width": 1
          },
          "size": 12,
          "symbol": "circle"
         },
         "mode": "markers",
         "name": "Ecuador",
         "orientation": "v",
         "showlegend": true,
         "type": "scatter",
         "x": [
          0.201346
         ],
         "xaxis": "x",
         "y": [
          0.165
         ],
         "yaxis": "y"
        },
        {
         "hovertemplate": "Country=England<br>Mean_score=%{x}<br>Performance=%{y}<extra></extra>",
         "legendgroup": "England",
         "marker": {
          "color": "#8c564b",
          "line": {
           "color": "black",
           "width": 1
          },
          "size": 12,
          "symbol": "circle"
         },
         "mode": "markers",
         "name": "England",
         "orientation": "v",
         "showlegend": true,
         "type": "scatter",
         "x": [
          0.188102
         ],
         "xaxis": "x",
         "y": [
          0.9
         ],
         "yaxis": "y"
        },
        {
         "hovertemplate": "Country=France<br>Mean_score=%{x}<br>Performance=%{y}<extra></extra>",
         "legendgroup": "France",
         "marker": {
          "color": "#c49c94",
          "line": {
           "color": "black",
           "width": 1
          },
          "size": 12,
          "symbol": "circle"
         },
         "mode": "markers",
         "name": "France",
         "orientation": "v",
         "showlegend": true,
         "type": "scatter",
         "x": [
          0.275152
         ],
         "xaxis": "x",
         "y": [
          0.57
         ],
         "yaxis": "y"
        },
        {
         "hovertemplate": "Country=Germany<br>Mean_score=%{x}<br>Performance=%{y}<extra></extra>",
         "legendgroup": "Germany",
         "marker": {
          "color": "#e377c2",
          "line": {
           "color": "black",
           "width": 1
          },
          "size": 12,
          "symbol": "circle"
         },
         "mode": "markers",
         "name": "Germany",
         "orientation": "v",
         "showlegend": true,
         "type": "scatter",
         "x": [
          0.158731
         ],
         "xaxis": "x",
         "y": [
          0.17
         ],
         "yaxis": "y"
        },
        {
         "hovertemplate": "Country=Ghana<br>Mean_score=%{x}<br>Performance=%{y}<extra></extra>",
         "legendgroup": "Ghana",
         "marker": {
          "color": "#f7b6d2",
          "line": {
           "color": "black",
           "width": 1
          },
          "size": 12,
          "symbol": "circle"
         },
         "mode": "markers",
         "name": "Ghana",
         "orientation": "v",
         "showlegend": true,
         "type": "scatter",
         "x": [
          0.1531605
         ],
         "xaxis": "x",
         "y": [
          -0.3350000000000001
         ],
         "yaxis": "y"
        },
        {
         "hovertemplate": "Country=Iran<br>Mean_score=%{x}<br>Performance=%{y}<extra></extra>",
         "legendgroup": "Iran",
         "marker": {
          "color": "#7f7f7f",
          "line": {
           "color": "black",
           "width": 1
          },
          "size": 12,
          "symbol": "circle"
         },
         "mode": "markers",
         "name": "Iran",
         "orientation": "v",
         "showlegend": true,
         "type": "scatter",
         "x": [
          0.082382
         ],
         "xaxis": "x",
         "y": [
          -0.5
         ],
         "yaxis": "y"
        },
        {
         "hovertemplate": "Country=Japan<br>Mean_score=%{x}<br>Performance=%{y}<extra></extra>",
         "legendgroup": "Japan",
         "marker": {
          "color": "#c7c7c7",
          "line": {
           "color": "black",
           "width": 1
          },
          "size": 12,
          "symbol": "circle"
         },
         "mode": "markers",
         "name": "Japan",
         "orientation": "v",
         "showlegend": true,
         "type": "scatter",
         "x": [
          0.341696
         ],
         "xaxis": "x",
         "y": [
          0.125
         ],
         "yaxis": "y"
        },
        {
         "hovertemplate": "Country=Korea Republic<br>Mean_score=%{x}<br>Performance=%{y}<extra></extra>",
         "legendgroup": "Korea Republic",
         "marker": {
          "color": "#bcbd22",
          "line": {
           "color": "black",
           "width": 1
          },
          "size": 12,
          "symbol": "circle"
         },
         "mode": "markers",
         "name": "Korea Republic",
         "orientation": "v",
         "showlegend": true,
         "type": "scatter",
         "x": [
          0.1477975
         ],
         "xaxis": "x",
         "y": [
          -0.375
         ],
         "yaxis": "y"
        },
        {
         "hovertemplate": "Country=Mexico<br>Mean_score=%{x}<br>Performance=%{y}<extra></extra>",
         "legendgroup": "Mexico",
         "marker": {
          "color": "#dbdb8d",
          "line": {
           "color": "black",
           "width": 1
          },
          "size": 12,
          "symbol": "circle"
         },
         "mode": "markers",
         "name": "Mexico",
         "orientation": "v",
         "showlegend": true,
         "type": "scatter",
         "x": [
          0.133797
         ],
         "xaxis": "x",
         "y": [
          -0.1699999999999999
         ],
         "yaxis": "y"
        },
        {
         "hovertemplate": "Country=Morocco<br>Mean_score=%{x}<br>Performance=%{y}<extra></extra>",
         "legendgroup": "Morocco",
         "marker": {
          "color": "#17becf",
          "line": {
           "color": "black",
           "width": 1
          },
          "size": 12,
          "symbol": "circle"
         },
         "mode": "markers",
         "name": "Morocco",
         "orientation": "v",
         "showlegend": true,
         "type": "scatter",
         "x": [
          0.236091
         ],
         "xaxis": "x",
         "y": [
          0.07
         ],
         "yaxis": "y"
        },
        {
         "hovertemplate": "Country=Netherlands<br>Mean_score=%{x}<br>Performance=%{y}<extra></extra>",
         "legendgroup": "Netherlands",
         "marker": {
          "color": "#9edae5",
          "line": {
           "color": "black",
           "width": 1
          },
          "size": 12,
          "symbol": "circle"
         },
         "mode": "markers",
         "name": "Netherlands",
         "orientation": "v",
         "showlegend": true,
         "type": "scatter",
         "x": [
          0.176285
         ],
         "xaxis": "x",
         "y": [
          0.6
         ],
         "yaxis": "y"
        },
        {
         "hovertemplate": "Country=Poland<br>Mean_score=%{x}<br>Performance=%{y}<extra></extra>",
         "legendgroup": "Poland",
         "marker": {
          "color": "#e6550d",
          "line": {
           "color": "black",
           "width": 1
          },
          "size": 12,
          "symbol": "circle"
         },
         "mode": "markers",
         "name": "Poland",
         "orientation": "v",
         "showlegend": true,
         "type": "scatter",
         "x": [
          0.2106115
         ],
         "xaxis": "x",
         "y": [
          -0.25
         ],
         "yaxis": "y"
        },
        {
         "hovertemplate": "Country=Portugal<br>Mean_score=%{x}<br>Performance=%{y}<extra></extra>",
         "legendgroup": "Portugal",
         "marker": {
          "color": "#fd8d3c",
          "line": {
           "color": "black",
           "width": 1
          },
          "size": 12,
          "symbol": "circle"
         },
         "mode": "markers",
         "name": "Portugal",
         "orientation": "v",
         "showlegend": true,
         "type": "scatter",
         "x": [
          0.3206179999999999
         ],
         "xaxis": "x",
         "y": [
          0.6
         ],
         "yaxis": "y"
        },
        {
         "hovertemplate": "Country=Qatar<br>Mean_score=%{x}<br>Performance=%{y}<extra></extra>",
         "legendgroup": "Qatar",
         "marker": {
          "color": "#6baed6",
          "line": {
           "color": "black",
           "width": 1
          },
          "size": 12,
          "symbol": "circle"
         },
         "mode": "markers",
         "name": "Qatar",
         "orientation": "v",
         "showlegend": true,
         "type": "scatter",
         "x": [
          0.2120544999999999
         ],
         "xaxis": "x",
         "y": [
          -1
         ],
         "yaxis": "y"
        },
        {
         "hovertemplate": "Country=Saudi Arabia<br>Mean_score=%{x}<br>Performance=%{y}<extra></extra>",
         "legendgroup": "Saudi Arabia",
         "marker": {
          "color": "#74c476",
          "line": {
           "color": "black",
           "width": 1
          },
          "size": 12,
          "symbol": "circle"
         },
         "mode": "markers",
         "name": "Saudi Arabia",
         "orientation": "v",
         "showlegend": true,
         "type": "scatter",
         "x": [
          0.1713874999999999
         ],
         "xaxis": "x",
         "y": [
          -0.3299999999999999
         ],
         "yaxis": "y"
        },
        {
         "hovertemplate": "Country=Senegal<br>Mean_score=%{x}<br>Performance=%{y}<extra></extra>",
         "legendgroup": "Senegal",
         "marker": {
          "color": "#9e9ac8",
          "line": {
           "color": "black",
           "width": 1
          },
          "size": 12,
          "symbol": "circle"
         },
         "mode": "markers",
         "name": "Senegal",
         "orientation": "v",
         "showlegend": true,
         "type": "scatter",
         "x": [
          0.1906145
         ],
         "xaxis": "x",
         "y": [
          -0.25
         ],
         "yaxis": "y"
        },
        {
         "hovertemplate": "Country=Serbia<br>Mean_score=%{x}<br>Performance=%{y}<extra></extra>",
         "legendgroup": "Serbia",
         "marker": {
          "color": "#fdae6b",
          "line": {
           "color": "black",
           "width": 1
          },
          "size": 12,
          "symbol": "circle"
         },
         "mode": "markers",
         "name": "Serbia",
         "orientation": "v",
         "showlegend": true,
         "type": "scatter",
         "x": [
          0.277814
         ],
         "xaxis": "x",
         "y": [
          -0.5000000000000001
         ],
         "yaxis": "y"
        },
        {
         "hovertemplate": "Country=Spain<br>Mean_score=%{x}<br>Performance=%{y}<extra></extra>",
         "legendgroup": "Spain",
         "marker": {
          "color": "#8dd3c7",
          "line": {
           "color": "black",
           "width": 1
          },
          "size": 12,
          "symbol": "circle"
         },
         "mode": "markers",
         "name": "Spain",
         "orientation": "v",
         "showlegend": true,
         "type": "scatter",
         "x": [
          0.1307535
         ],
         "xaxis": "x",
         "y": [
          0.75
         ],
         "yaxis": "y"
        },
        {
         "hovertemplate": "Country=Switzerland<br>Mean_score=%{x}<br>Performance=%{y}<extra></extra>",
         "legendgroup": "Switzerland",
         "marker": {
          "color": "#b3de69",
          "line": {
           "color": "black",
           "width": 1
          },
          "size": 12,
          "symbol": "circle"
         },
         "mode": "markers",
         "name": "Switzerland",
         "orientation": "v",
         "showlegend": true,
         "type": "scatter",
         "x": [
          0.1627994999999999
         ],
         "xaxis": "x",
         "y": [
          -0.5
         ],
         "yaxis": "y"
        },
        {
         "hovertemplate": "Country=Tunisia<br>Mean_score=%{x}<br>Performance=%{y}<extra></extra>",
         "legendgroup": "Tunisia",
         "marker": {
          "color": "#fccde5",
          "line": {
           "color": "black",
           "width": 1
          },
          "size": 12,
          "symbol": "circle"
         },
         "mode": "markers",
         "name": "Tunisia",
         "orientation": "v",
         "showlegend": true,
         "type": "scatter",
         "x": [
          0.1812725
         ],
         "xaxis": "x",
         "y": [
          0
         ],
         "yaxis": "y"
        },
        {
         "hovertemplate": "Country=United States<br>Mean_score=%{x}<br>Performance=%{y}<extra></extra>",
         "legendgroup": "United States",
         "marker": {
          "color": "#d9d9d9",
          "line": {
           "color": "black",
           "width": 1
          },
          "size": 12,
          "symbol": "circle"
         },
         "mode": "markers",
         "name": "United States",
         "orientation": "v",
         "showlegend": true,
         "type": "scatter",
         "x": [
          0.4791745
         ],
         "xaxis": "x",
         "y": [
          -0.125
         ],
         "yaxis": "y"
        },
        {
         "hovertemplate": "Country=Uruguay<br>Mean_score=%{x}<br>Performance=%{y}<extra></extra>",
         "legendgroup": "Uruguay",
         "marker": {
          "color": "#bc80bd",
          "line": {
           "color": "black",
           "width": 1
          },
          "size": 12,
          "symbol": "circle"
         },
         "mode": "markers",
         "name": "Uruguay",
         "orientation": "v",
         "showlegend": true,
         "type": "scatter",
         "x": [
          0.1758259999999999
         ],
         "xaxis": "x",
         "y": [
          -0.15
         ],
         "yaxis": "y"
        },
        {
         "hovertemplate": "Country=Wales<br>Mean_score=%{x}<br>Performance=%{y}<extra></extra>",
         "legendgroup": "Wales",
         "marker": {
          "color": "#ccebc5",
          "line": {
           "color": "black",
           "width": 1
          },
          "size": 12,
          "symbol": "circle"
         },
         "mode": "markers",
         "name": "Wales",
         "orientation": "v",
         "showlegend": true,
         "type": "scatter",
         "x": [
          0.182575
         ],
         "xaxis": "x",
         "y": [
          -0.835
         ],
         "yaxis": "y"
        }
       ],
       "layout": {
        "legend": {
         "title": {
          "text": "Country"
         },
         "tracegroupgap": 0
        },
        "template": {
         "data": {
          "bar": [
           {
            "error_x": {
             "color": "#2a3f5f"
            },
            "error_y": {
             "color": "#2a3f5f"
            },
            "marker": {
             "line": {
              "color": "#E5ECF6",
              "width": 0.5
             },
             "pattern": {
              "fillmode": "overlay",
              "size": 10,
              "solidity": 0.2
             }
            },
            "type": "bar"
           }
          ],
          "barpolar": [
           {
            "marker": {
             "line": {
              "color": "#E5ECF6",
              "width": 0.5
             },
             "pattern": {
              "fillmode": "overlay",
              "size": 10,
              "solidity": 0.2
             }
            },
            "type": "barpolar"
           }
          ],
          "carpet": [
           {
            "aaxis": {
             "endlinecolor": "#2a3f5f",
             "gridcolor": "white",
             "linecolor": "white",
             "minorgridcolor": "white",
             "startlinecolor": "#2a3f5f"
            },
            "baxis": {
             "endlinecolor": "#2a3f5f",
             "gridcolor": "white",
             "linecolor": "white",
             "minorgridcolor": "white",
             "startlinecolor": "#2a3f5f"
            },
            "type": "carpet"
           }
          ],
          "choropleth": [
           {
            "colorbar": {
             "outlinewidth": 0,
             "ticks": ""
            },
            "type": "choropleth"
           }
          ],
          "contour": [
           {
            "colorbar": {
             "outlinewidth": 0,
             "ticks": ""
            },
            "colorscale": [
             [
              0,
              "#0d0887"
             ],
             [
              0.1111111111111111,
              "#46039f"
             ],
             [
              0.2222222222222222,
              "#7201a8"
             ],
             [
              0.3333333333333333,
              "#9c179e"
             ],
             [
              0.4444444444444444,
              "#bd3786"
             ],
             [
              0.5555555555555556,
              "#d8576b"
             ],
             [
              0.6666666666666666,
              "#ed7953"
             ],
             [
              0.7777777777777778,
              "#fb9f3a"
             ],
             [
              0.8888888888888888,
              "#fdca26"
             ],
             [
              1,
              "#f0f921"
             ]
            ],
            "type": "contour"
           }
          ],
          "contourcarpet": [
           {
            "colorbar": {
             "outlinewidth": 0,
             "ticks": ""
            },
            "type": "contourcarpet"
           }
          ],
          "heatmap": [
           {
            "colorbar": {
             "outlinewidth": 0,
             "ticks": ""
            },
            "colorscale": [
             [
              0,
              "#0d0887"
             ],
             [
              0.1111111111111111,
              "#46039f"
             ],
             [
              0.2222222222222222,
              "#7201a8"
             ],
             [
              0.3333333333333333,
              "#9c179e"
             ],
             [
              0.4444444444444444,
              "#bd3786"
             ],
             [
              0.5555555555555556,
              "#d8576b"
             ],
             [
              0.6666666666666666,
              "#ed7953"
             ],
             [
              0.7777777777777778,
              "#fb9f3a"
             ],
             [
              0.8888888888888888,
              "#fdca26"
             ],
             [
              1,
              "#f0f921"
             ]
            ],
            "type": "heatmap"
           }
          ],
          "heatmapgl": [
           {
            "colorbar": {
             "outlinewidth": 0,
             "ticks": ""
            },
            "colorscale": [
             [
              0,
              "#0d0887"
             ],
             [
              0.1111111111111111,
              "#46039f"
             ],
             [
              0.2222222222222222,
              "#7201a8"
             ],
             [
              0.3333333333333333,
              "#9c179e"
             ],
             [
              0.4444444444444444,
              "#bd3786"
             ],
             [
              0.5555555555555556,
              "#d8576b"
             ],
             [
              0.6666666666666666,
              "#ed7953"
             ],
             [
              0.7777777777777778,
              "#fb9f3a"
             ],
             [
              0.8888888888888888,
              "#fdca26"
             ],
             [
              1,
              "#f0f921"
             ]
            ],
            "type": "heatmapgl"
           }
          ],
          "histogram": [
           {
            "marker": {
             "pattern": {
              "fillmode": "overlay",
              "size": 10,
              "solidity": 0.2
             }
            },
            "type": "histogram"
           }
          ],
          "histogram2d": [
           {
            "colorbar": {
             "outlinewidth": 0,
             "ticks": ""
            },
            "colorscale": [
             [
              0,
              "#0d0887"
             ],
             [
              0.1111111111111111,
              "#46039f"
             ],
             [
              0.2222222222222222,
              "#7201a8"
             ],
             [
              0.3333333333333333,
              "#9c179e"
             ],
             [
              0.4444444444444444,
              "#bd3786"
             ],
             [
              0.5555555555555556,
              "#d8576b"
             ],
             [
              0.6666666666666666,
              "#ed7953"
             ],
             [
              0.7777777777777778,
              "#fb9f3a"
             ],
             [
              0.8888888888888888,
              "#fdca26"
             ],
             [
              1,
              "#f0f921"
             ]
            ],
            "type": "histogram2d"
           }
          ],
          "histogram2dcontour": [
           {
            "colorbar": {
             "outlinewidth": 0,
             "ticks": ""
            },
            "colorscale": [
             [
              0,
              "#0d0887"
             ],
             [
              0.1111111111111111,
              "#46039f"
             ],
             [
              0.2222222222222222,
              "#7201a8"
             ],
             [
              0.3333333333333333,
              "#9c179e"
             ],
             [
              0.4444444444444444,
              "#bd3786"
             ],
             [
              0.5555555555555556,
              "#d8576b"
             ],
             [
              0.6666666666666666,
              "#ed7953"
             ],
             [
              0.7777777777777778,
              "#fb9f3a"
             ],
             [
              0.8888888888888888,
              "#fdca26"
             ],
             [
              1,
              "#f0f921"
             ]
            ],
            "type": "histogram2dcontour"
           }
          ],
          "mesh3d": [
           {
            "colorbar": {
             "outlinewidth": 0,
             "ticks": ""
            },
            "type": "mesh3d"
           }
          ],
          "parcoords": [
           {
            "line": {
             "colorbar": {
              "outlinewidth": 0,
              "ticks": ""
             }
            },
            "type": "parcoords"
           }
          ],
          "pie": [
           {
            "automargin": true,
            "type": "pie"
           }
          ],
          "scatter": [
           {
            "fillpattern": {
             "fillmode": "overlay",
             "size": 10,
             "solidity": 0.2
            },
            "type": "scatter"
           }
          ],
          "scatter3d": [
           {
            "line": {
             "colorbar": {
              "outlinewidth": 0,
              "ticks": ""
             }
            },
            "marker": {
             "colorbar": {
              "outlinewidth": 0,
              "ticks": ""
             }
            },
            "type": "scatter3d"
           }
          ],
          "scattercarpet": [
           {
            "marker": {
             "colorbar": {
              "outlinewidth": 0,
              "ticks": ""
             }
            },
            "type": "scattercarpet"
           }
          ],
          "scattergeo": [
           {
            "marker": {
             "colorbar": {
              "outlinewidth": 0,
              "ticks": ""
             }
            },
            "type": "scattergeo"
           }
          ],
          "scattergl": [
           {
            "marker": {
             "colorbar": {
              "outlinewidth": 0,
              "ticks": ""
             }
            },
            "type": "scattergl"
           }
          ],
          "scattermapbox": [
           {
            "marker": {
             "colorbar": {
              "outlinewidth": 0,
              "ticks": ""
             }
            },
            "type": "scattermapbox"
           }
          ],
          "scatterpolar": [
           {
            "marker": {
             "colorbar": {
              "outlinewidth": 0,
              "ticks": ""
             }
            },
            "type": "scatterpolar"
           }
          ],
          "scatterpolargl": [
           {
            "marker": {
             "colorbar": {
              "outlinewidth": 0,
              "ticks": ""
             }
            },
            "type": "scatterpolargl"
           }
          ],
          "scatterternary": [
           {
            "marker": {
             "colorbar": {
              "outlinewidth": 0,
              "ticks": ""
             }
            },
            "type": "scatterternary"
           }
          ],
          "surface": [
           {
            "colorbar": {
             "outlinewidth": 0,
             "ticks": ""
            },
            "colorscale": [
             [
              0,
              "#0d0887"
             ],
             [
              0.1111111111111111,
              "#46039f"
             ],
             [
              0.2222222222222222,
              "#7201a8"
             ],
             [
              0.3333333333333333,
              "#9c179e"
             ],
             [
              0.4444444444444444,
              "#bd3786"
             ],
             [
              0.5555555555555556,
              "#d8576b"
             ],
             [
              0.6666666666666666,
              "#ed7953"
             ],
             [
              0.7777777777777778,
              "#fb9f3a"
             ],
             [
              0.8888888888888888,
              "#fdca26"
             ],
             [
              1,
              "#f0f921"
             ]
            ],
            "type": "surface"
           }
          ],
          "table": [
           {
            "cells": {
             "fill": {
              "color": "#EBF0F8"
             },
             "line": {
              "color": "white"
             }
            },
            "header": {
             "fill": {
              "color": "#C8D4E3"
             },
             "line": {
              "color": "white"
             }
            },
            "type": "table"
           }
          ]
         },
         "layout": {
          "annotationdefaults": {
           "arrowcolor": "#2a3f5f",
           "arrowhead": 0,
           "arrowwidth": 1
          },
          "autotypenumbers": "strict",
          "coloraxis": {
           "colorbar": {
            "outlinewidth": 0,
            "ticks": ""
           }
          },
          "colorscale": {
           "diverging": [
            [
             0,
             "#8e0152"
            ],
            [
             0.1,
             "#c51b7d"
            ],
            [
             0.2,
             "#de77ae"
            ],
            [
             0.3,
             "#f1b6da"
            ],
            [
             0.4,
             "#fde0ef"
            ],
            [
             0.5,
             "#f7f7f7"
            ],
            [
             0.6,
             "#e6f5d0"
            ],
            [
             0.7,
             "#b8e186"
            ],
            [
             0.8,
             "#7fbc41"
            ],
            [
             0.9,
             "#4d9221"
            ],
            [
             1,
             "#276419"
            ]
           ],
           "sequential": [
            [
             0,
             "#0d0887"
            ],
            [
             0.1111111111111111,
             "#46039f"
            ],
            [
             0.2222222222222222,
             "#7201a8"
            ],
            [
             0.3333333333333333,
             "#9c179e"
            ],
            [
             0.4444444444444444,
             "#bd3786"
            ],
            [
             0.5555555555555556,
             "#d8576b"
            ],
            [
             0.6666666666666666,
             "#ed7953"
            ],
            [
             0.7777777777777778,
             "#fb9f3a"
            ],
            [
             0.8888888888888888,
             "#fdca26"
            ],
            [
             1,
             "#f0f921"
            ]
           ],
           "sequentialminus": [
            [
             0,
             "#0d0887"
            ],
            [
             0.1111111111111111,
             "#46039f"
            ],
            [
             0.2222222222222222,
             "#7201a8"
            ],
            [
             0.3333333333333333,
             "#9c179e"
            ],
            [
             0.4444444444444444,
             "#bd3786"
            ],
            [
             0.5555555555555556,
             "#d8576b"
            ],
            [
             0.6666666666666666,
             "#ed7953"
            ],
            [
             0.7777777777777778,
             "#fb9f3a"
            ],
            [
             0.8888888888888888,
             "#fdca26"
            ],
            [
             1,
             "#f0f921"
            ]
           ]
          },
          "colorway": [
           "#636efa",
           "#EF553B",
           "#00cc96",
           "#ab63fa",
           "#FFA15A",
           "#19d3f3",
           "#FF6692",
           "#B6E880",
           "#FF97FF",
           "#FECB52"
          ],
          "font": {
           "color": "#2a3f5f"
          },
          "geo": {
           "bgcolor": "white",
           "lakecolor": "white",
           "landcolor": "#E5ECF6",
           "showlakes": true,
           "showland": true,
           "subunitcolor": "white"
          },
          "hoverlabel": {
           "align": "left"
          },
          "hovermode": "closest",
          "mapbox": {
           "style": "light"
          },
          "paper_bgcolor": "white",
          "plot_bgcolor": "#E5ECF6",
          "polar": {
           "angularaxis": {
            "gridcolor": "white",
            "linecolor": "white",
            "ticks": ""
           },
           "bgcolor": "#E5ECF6",
           "radialaxis": {
            "gridcolor": "white",
            "linecolor": "white",
            "ticks": ""
           }
          },
          "scene": {
           "xaxis": {
            "backgroundcolor": "#E5ECF6",
            "gridcolor": "white",
            "gridwidth": 2,
            "linecolor": "white",
            "showbackground": true,
            "ticks": "",
            "zerolinecolor": "white"
           },
           "yaxis": {
            "backgroundcolor": "#E5ECF6",
            "gridcolor": "white",
            "gridwidth": 2,
            "linecolor": "white",
            "showbackground": true,
            "ticks": "",
            "zerolinecolor": "white"
           },
           "zaxis": {
            "backgroundcolor": "#E5ECF6",
            "gridcolor": "white",
            "gridwidth": 2,
            "linecolor": "white",
            "showbackground": true,
            "ticks": "",
            "zerolinecolor": "white"
           }
          },
          "shapedefaults": {
           "line": {
            "color": "#2a3f5f"
           }
          },
          "ternary": {
           "aaxis": {
            "gridcolor": "white",
            "linecolor": "white",
            "ticks": ""
           },
           "baxis": {
            "gridcolor": "white",
            "linecolor": "white",
            "ticks": ""
           },
           "bgcolor": "#E5ECF6",
           "caxis": {
            "gridcolor": "white",
            "linecolor": "white",
            "ticks": ""
           }
          },
          "title": {
           "x": 0.05
          },
          "xaxis": {
           "automargin": true,
           "gridcolor": "white",
           "linecolor": "white",
           "ticks": "",
           "title": {
            "standoff": 15
           },
           "zerolinecolor": "white",
           "zerolinewidth": 2
          },
          "yaxis": {
           "automargin": true,
           "gridcolor": "white",
           "linecolor": "white",
           "ticks": "",
           "title": {
            "standoff": 15
           },
           "zerolinecolor": "white",
           "zerolinewidth": 2
          }
         }
        },
        "title": {
         "text": "Sentiment tweets & 2022 world cup performace, correlation coeff. on mean: 0.256"
        },
        "xaxis": {
         "anchor": "y",
         "domain": [
          0,
          1
         ],
         "title": {
          "text": "Mean Sentiment score"
         }
        },
        "yaxis": {
         "anchor": "x",
         "domain": [
          0,
          1
         ],
         "title": {
          "text": "Performance score"
         }
        }
       }
      }
     },
     "metadata": {},
     "output_type": "display_data"
    }
   ],
   "source": [
    "# Scatter plots pearson_correlation_mean\n",
    "fig = px.scatter(\n",
    "    tweets_performance,\n",
    "    x=tweets_performance[\"Mean_score\"],\n",
    "    y=tweets_performance[\"Performance\"],\n",
    "    color=tweets_performance[\"Country\"],\n",
    "    color_discrete_sequence=colors,\n",
    "    title=\"Sentiment tweets & 2022 world cup performace, correlation coeff. on mean: \" + \"{:.3f}\".format(pearson_correlation_mean[0]),\n",
    ")\n",
    "fig.update_traces(marker=dict(size=12))\n",
    "fig.update_traces(marker_line_width=1,marker_line_color=\"black\")\n",
    "fig.update_xaxes(title_text=\"Mean Sentiment score\")\n",
    "fig.update_yaxes(title_text=\"Performance score\")\n",
    "fig.show()\n",
    "fig.write_image(\"tweets_performance.png\")"
   ]
  },
  {
   "cell_type": "code",
   "execution_count": 6,
   "metadata": {},
   "outputs": [
    {
     "data": {
      "application/vnd.plotly.v1+json": {
       "config": {
        "plotlyServerURL": "https://plot.ly"
       },
       "data": [
        {
         "hovertemplate": "Country=Argentina<br>Median_score=%{x}<br>Performance=%{y}<extra></extra>",
         "legendgroup": "Argentina",
         "marker": {
          "color": "#1f77b4",
          "line": {
           "color": "black",
           "width": 1
          },
          "size": 12,
          "symbol": "circle"
         },
         "mode": "markers",
         "name": "Argentina",
         "orientation": "v",
         "showlegend": true,
         "type": "scatter",
         "x": [
          0.4404
         ],
         "xaxis": "x",
         "y": [
          0.5000000000000001
         ],
         "yaxis": "y"
        },
        {
         "hovertemplate": "Country=Australia<br>Median_score=%{x}<br>Performance=%{y}<extra></extra>",
         "legendgroup": "Australia",
         "marker": {
          "color": "#aec7e8",
          "line": {
           "color": "black",
           "width": 1
          },
          "size": 12,
          "symbol": "circle"
         },
         "mode": "markers",
         "name": "Australia",
         "orientation": "v",
         "showlegend": true,
         "type": "scatter",
         "x": [
          0.0129
         ],
         "xaxis": "x",
         "y": [
          -0.375
         ],
         "yaxis": "y"
        },
        {
         "hovertemplate": "Country=Belgium<br>Median_score=%{x}<br>Performance=%{y}<extra></extra>",
         "legendgroup": "Belgium",
         "marker": {
          "color": "#ff7f0e",
          "line": {
           "color": "black",
           "width": 1
          },
          "size": 12,
          "symbol": "circle"
         },
         "mode": "markers",
         "name": "Belgium",
         "orientation": "v",
         "showlegend": true,
         "type": "scatter",
         "x": [
          0.0387
         ],
         "xaxis": "x",
         "y": [
          -0.585
         ],
         "yaxis": "y"
        },
        {
         "hovertemplate": "Country=Brazil<br>Median_score=%{x}<br>Performance=%{y}<extra></extra>",
         "legendgroup": "Brazil",
         "marker": {
          "color": "#ffbb78",
          "line": {
           "color": "black",
           "width": 1
          },
          "size": 12,
          "symbol": "circle"
         },
         "mode": "markers",
         "name": "Brazil",
         "orientation": "v",
         "showlegend": true,
         "type": "scatter",
         "x": [
          0.25445
         ],
         "xaxis": "x",
         "y": [
          0.5
         ],
         "yaxis": "y"
        },
        {
         "hovertemplate": "Country=Cameroon<br>Median_score=%{x}<br>Performance=%{y}<extra></extra>",
         "legendgroup": "Cameroon",
         "marker": {
          "color": "#2ca02c",
          "line": {
           "color": "black",
           "width": 1
          },
          "size": 12,
          "symbol": "circle"
         },
         "mode": "markers",
         "name": "Cameroon",
         "orientation": "v",
         "showlegend": true,
         "type": "scatter",
         "x": [
          0.2023
         ],
         "xaxis": "x",
         "y": [
          0
         ],
         "yaxis": "y"
        },
        {
         "hovertemplate": "Country=Canada<br>Median_score=%{x}<br>Performance=%{y}<extra></extra>",
         "legendgroup": "Canada",
         "marker": {
          "color": "#98df8a",
          "line": {
           "color": "black",
           "width": 1
          },
          "size": 12,
          "symbol": "circle"
         },
         "mode": "markers",
         "name": "Canada",
         "orientation": "v",
         "showlegend": true,
         "type": "scatter",
         "x": [
          0.2263
         ],
         "xaxis": "x",
         "y": [
          -1
         ],
         "yaxis": "y"
        },
        {
         "hovertemplate": "Country=Costa Rica<br>Median_score=%{x}<br>Performance=%{y}<extra></extra>",
         "legendgroup": "Costa Rica",
         "marker": {
          "color": "#d62728",
          "line": {
           "color": "black",
           "width": 1
          },
          "size": 12,
          "symbol": "circle"
         },
         "mode": "markers",
         "name": "Costa Rica",
         "orientation": "v",
         "showlegend": true,
         "type": "scatter",
         "x": [
          0
         ],
         "xaxis": "x",
         "y": [
          -1.33
         ],
         "yaxis": "y"
        },
        {
         "hovertemplate": "Country=Croatia<br>Median_score=%{x}<br>Performance=%{y}<extra></extra>",
         "legendgroup": "Croatia",
         "marker": {
          "color": "#ff9896",
          "line": {
           "color": "black",
           "width": 1
          },
          "size": 12,
          "symbol": "circle"
         },
         "mode": "markers",
         "name": "Croatia",
         "orientation": "v",
         "showlegend": true,
         "type": "scatter",
         "x": [
          0.22615
         ],
         "xaxis": "x",
         "y": [
          0.0699999999999999
         ],
         "yaxis": "y"
        },
        {
         "hovertemplate": "Country=Denmark<br>Median_score=%{x}<br>Performance=%{y}<extra></extra>",
         "legendgroup": "Denmark",
         "marker": {
          "color": "#9467bd",
          "line": {
           "color": "black",
           "width": 1
          },
          "size": 12,
          "symbol": "circle"
         },
         "mode": "markers",
         "name": "Denmark",
         "orientation": "v",
         "showlegend": true,
         "type": "scatter",
         "x": [
          0.1605
         ],
         "xaxis": "x",
         "y": [
          -0.3349999999999999
         ],
         "yaxis": "y"
        },
        {
         "hovertemplate": "Country=Ecuador<br>Median_score=%{x}<br>Performance=%{y}<extra></extra>",
         "legendgroup": "Ecuador",
         "marker": {
          "color": "#c5b0d5",
          "line": {
           "color": "black",
           "width": 1
          },
          "size": 12,
          "symbol": "circle"
         },
         "mode": "markers",
         "name": "Ecuador",
         "orientation": "v",
         "showlegend": true,
         "type": "scatter",
         "x": [
          0.128
         ],
         "xaxis": "x",
         "y": [
          0.165
         ],
         "yaxis": "y"
        },
        {
         "hovertemplate": "Country=England<br>Median_score=%{x}<br>Performance=%{y}<extra></extra>",
         "legendgroup": "England",
         "marker": {
          "color": "#8c564b",
          "line": {
           "color": "black",
           "width": 1
          },
          "size": 12,
          "symbol": "circle"
         },
         "mode": "markers",
         "name": "England",
         "orientation": "v",
         "showlegend": true,
         "type": "scatter",
         "x": [
          0.19635
         ],
         "xaxis": "x",
         "y": [
          0.9
         ],
         "yaxis": "y"
        },
        {
         "hovertemplate": "Country=France<br>Median_score=%{x}<br>Performance=%{y}<extra></extra>",
         "legendgroup": "France",
         "marker": {
          "color": "#c49c94",
          "line": {
           "color": "black",
           "width": 1
          },
          "size": 12,
          "symbol": "circle"
         },
         "mode": "markers",
         "name": "France",
         "orientation": "v",
         "showlegend": true,
         "type": "scatter",
         "x": [
          0.296
         ],
         "xaxis": "x",
         "y": [
          0.57
         ],
         "yaxis": "y"
        },
        {
         "hovertemplate": "Country=Germany<br>Median_score=%{x}<br>Performance=%{y}<extra></extra>",
         "legendgroup": "Germany",
         "marker": {
          "color": "#e377c2",
          "line": {
           "color": "black",
           "width": 1
          },
          "size": 12,
          "symbol": "circle"
         },
         "mode": "markers",
         "name": "Germany",
         "orientation": "v",
         "showlegend": true,
         "type": "scatter",
         "x": [
          0.0644
         ],
         "xaxis": "x",
         "y": [
          0.17
         ],
         "yaxis": "y"
        },
        {
         "hovertemplate": "Country=Ghana<br>Median_score=%{x}<br>Performance=%{y}<extra></extra>",
         "legendgroup": "Ghana",
         "marker": {
          "color": "#f7b6d2",
          "line": {
           "color": "black",
           "width": 1
          },
          "size": 12,
          "symbol": "circle"
         },
         "mode": "markers",
         "name": "Ghana",
         "orientation": "v",
         "showlegend": true,
         "type": "scatter",
         "x": [
          0.06755
         ],
         "xaxis": "x",
         "y": [
          -0.3350000000000001
         ],
         "yaxis": "y"
        },
        {
         "hovertemplate": "Country=Iran<br>Median_score=%{x}<br>Performance=%{y}<extra></extra>",
         "legendgroup": "Iran",
         "marker": {
          "color": "#7f7f7f",
          "line": {
           "color": "black",
           "width": 1
          },
          "size": 12,
          "symbol": "circle"
         },
         "mode": "markers",
         "name": "Iran",
         "orientation": "v",
         "showlegend": true,
         "type": "scatter",
         "x": [
          0
         ],
         "xaxis": "x",
         "y": [
          -0.5
         ],
         "yaxis": "y"
        },
        {
         "hovertemplate": "Country=Japan<br>Median_score=%{x}<br>Performance=%{y}<extra></extra>",
         "legendgroup": "Japan",
         "marker": {
          "color": "#c7c7c7",
          "line": {
           "color": "black",
           "width": 1
          },
          "size": 12,
          "symbol": "circle"
         },
         "mode": "markers",
         "name": "Japan",
         "orientation": "v",
         "showlegend": true,
         "type": "scatter",
         "x": [
          0.4215
         ],
         "xaxis": "x",
         "y": [
          0.125
         ],
         "yaxis": "y"
        },
        {
         "hovertemplate": "Country=Korea Republic<br>Median_score=%{x}<br>Performance=%{y}<extra></extra>",
         "legendgroup": "Korea Republic",
         "marker": {
          "color": "#bcbd22",
          "line": {
           "color": "black",
           "width": 1
          },
          "size": 12,
          "symbol": "circle"
         },
         "mode": "markers",
         "name": "Korea Republic",
         "orientation": "v",
         "showlegend": true,
         "type": "scatter",
         "x": [
          0
         ],
         "xaxis": "x",
         "y": [
          -0.375
         ],
         "yaxis": "y"
        },
        {
         "hovertemplate": "Country=Mexico<br>Median_score=%{x}<br>Performance=%{y}<extra></extra>",
         "legendgroup": "Mexico",
         "marker": {
          "color": "#dbdb8d",
          "line": {
           "color": "black",
           "width": 1
          },
          "size": 12,
          "symbol": "circle"
         },
         "mode": "markers",
         "name": "Mexico",
         "orientation": "v",
         "showlegend": true,
         "type": "scatter",
         "x": [
          0
         ],
         "xaxis": "x",
         "y": [
          -0.1699999999999999
         ],
         "yaxis": "y"
        },
        {
         "hovertemplate": "Country=Morocco<br>Median_score=%{x}<br>Performance=%{y}<extra></extra>",
         "legendgroup": "Morocco",
         "marker": {
          "color": "#17becf",
          "line": {
           "color": "black",
           "width": 1
          },
          "size": 12,
          "symbol": "circle"
         },
         "mode": "markers",
         "name": "Morocco",
         "orientation": "v",
         "showlegend": true,
         "type": "scatter",
         "x": [
          0.16515
         ],
         "xaxis": "x",
         "y": [
          0.07
         ],
         "yaxis": "y"
        },
        {
         "hovertemplate": "Country=Netherlands<br>Median_score=%{x}<br>Performance=%{y}<extra></extra>",
         "legendgroup": "Netherlands",
         "marker": {
          "color": "#9edae5",
          "line": {
           "color": "black",
           "width": 1
          },
          "size": 12,
          "symbol": "circle"
         },
         "mode": "markers",
         "name": "Netherlands",
         "orientation": "v",
         "showlegend": true,
         "type": "scatter",
         "x": [
          0.12725
         ],
         "xaxis": "x",
         "y": [
          0.6
         ],
         "yaxis": "y"
        },
        {
         "hovertemplate": "Country=Poland<br>Median_score=%{x}<br>Performance=%{y}<extra></extra>",
         "legendgroup": "Poland",
         "marker": {
          "color": "#e6550d",
          "line": {
           "color": "black",
           "width": 1
          },
          "size": 12,
          "symbol": "circle"
         },
         "mode": "markers",
         "name": "Poland",
         "orientation": "v",
         "showlegend": true,
         "type": "scatter",
         "x": [
          0
         ],
         "xaxis": "x",
         "y": [
          -0.25
         ],
         "yaxis": "y"
        },
        {
         "hovertemplate": "Country=Portugal<br>Median_score=%{x}<br>Performance=%{y}<extra></extra>",
         "legendgroup": "Portugal",
         "marker": {
          "color": "#fd8d3c",
          "line": {
           "color": "black",
           "width": 1
          },
          "size": 12,
          "symbol": "circle"
         },
         "mode": "markers",
         "name": "Portugal",
         "orientation": "v",
         "showlegend": true,
         "type": "scatter",
         "x": [
          0.3506
         ],
         "xaxis": "x",
         "y": [
          0.6
         ],
         "yaxis": "y"
        },
        {
         "hovertemplate": "Country=Qatar<br>Median_score=%{x}<br>Performance=%{y}<extra></extra>",
         "legendgroup": "Qatar",
         "marker": {
          "color": "#6baed6",
          "line": {
           "color": "black",
           "width": 1
          },
          "size": 12,
          "symbol": "circle"
         },
         "mode": "markers",
         "name": "Qatar",
         "orientation": "v",
         "showlegend": true,
         "type": "scatter",
         "x": [
          0.20255
         ],
         "xaxis": "x",
         "y": [
          -1
         ],
         "yaxis": "y"
        },
        {
         "hovertemplate": "Country=Saudi Arabia<br>Median_score=%{x}<br>Performance=%{y}<extra></extra>",
         "legendgroup": "Saudi Arabia",
         "marker": {
          "color": "#74c476",
          "line": {
           "color": "black",
           "width": 1
          },
          "size": 12,
          "symbol": "circle"
         },
         "mode": "markers",
         "name": "Saudi Arabia",
         "orientation": "v",
         "showlegend": true,
         "type": "scatter",
         "x": [
          0
         ],
         "xaxis": "x",
         "y": [
          -0.3299999999999999
         ],
         "yaxis": "y"
        },
        {
         "hovertemplate": "Country=Senegal<br>Median_score=%{x}<br>Performance=%{y}<extra></extra>",
         "legendgroup": "Senegal",
         "marker": {
          "color": "#9e9ac8",
          "line": {
           "color": "black",
           "width": 1
          },
          "size": 12,
          "symbol": "circle"
         },
         "mode": "markers",
         "name": "Senegal",
         "orientation": "v",
         "showlegend": true,
         "type": "scatter",
         "x": [
          0.0415
         ],
         "xaxis": "x",
         "y": [
          -0.25
         ],
         "yaxis": "y"
        },
        {
         "hovertemplate": "Country=Serbia<br>Median_score=%{x}<br>Performance=%{y}<extra></extra>",
         "legendgroup": "Serbia",
         "marker": {
          "color": "#fdae6b",
          "line": {
           "color": "black",
           "width": 1
          },
          "size": 12,
          "symbol": "circle"
         },
         "mode": "markers",
         "name": "Serbia",
         "orientation": "v",
         "showlegend": true,
         "type": "scatter",
         "x": [
          0.3071
         ],
         "xaxis": "x",
         "y": [
          -0.5000000000000001
         ],
         "yaxis": "y"
        },
        {
         "hovertemplate": "Country=Spain<br>Median_score=%{x}<br>Performance=%{y}<extra></extra>",
         "legendgroup": "Spain",
         "marker": {
          "color": "#8dd3c7",
          "line": {
           "color": "black",
           "width": 1
          },
          "size": 12,
          "symbol": "circle"
         },
         "mode": "markers",
         "name": "Spain",
         "orientation": "v",
         "showlegend": true,
         "type": "scatter",
         "x": [
          0
         ],
         "xaxis": "x",
         "y": [
          0.75
         ],
         "yaxis": "y"
        },
        {
         "hovertemplate": "Country=Switzerland<br>Median_score=%{x}<br>Performance=%{y}<extra></extra>",
         "legendgroup": "Switzerland",
         "marker": {
          "color": "#b3de69",
          "line": {
           "color": "black",
           "width": 1
          },
          "size": 12,
          "symbol": "circle"
         },
         "mode": "markers",
         "name": "Switzerland",
         "orientation": "v",
         "showlegend": true,
         "type": "scatter",
         "x": [
          0
         ],
         "xaxis": "x",
         "y": [
          -0.5
         ],
         "yaxis": "y"
        },
        {
         "hovertemplate": "Country=Tunisia<br>Median_score=%{x}<br>Performance=%{y}<extra></extra>",
         "legendgroup": "Tunisia",
         "marker": {
          "color": "#fccde5",
          "line": {
           "color": "black",
           "width": 1
          },
          "size": 12,
          "symbol": "circle"
         },
         "mode": "markers",
         "name": "Tunisia",
         "orientation": "v",
         "showlegend": true,
         "type": "scatter",
         "x": [
          0.0772
         ],
         "xaxis": "x",
         "y": [
          0
         ],
         "yaxis": "y"
        },
        {
         "hovertemplate": "Country=United States<br>Median_score=%{x}<br>Performance=%{y}<extra></extra>",
         "legendgroup": "United States",
         "marker": {
          "color": "#d9d9d9",
          "line": {
           "color": "black",
           "width": 1
          },
          "size": 12,
          "symbol": "circle"
         },
         "mode": "markers",
         "name": "United States",
         "orientation": "v",
         "showlegend": true,
         "type": "scatter",
         "x": [
          0.5226
         ],
         "xaxis": "x",
         "y": [
          -0.125
         ],
         "yaxis": "y"
        },
        {
         "hovertemplate": "Country=Uruguay<br>Median_score=%{x}<br>Performance=%{y}<extra></extra>",
         "legendgroup": "Uruguay",
         "marker": {
          "color": "#bc80bd",
          "line": {
           "color": "black",
           "width": 1
          },
          "size": 12,
          "symbol": "circle"
         },
         "mode": "markers",
         "name": "Uruguay",
         "orientation": "v",
         "showlegend": true,
         "type": "scatter",
         "x": [
          0
         ],
         "xaxis": "x",
         "y": [
          -0.15
         ],
         "yaxis": "y"
        },
        {
         "hovertemplate": "Country=Wales<br>Median_score=%{x}<br>Performance=%{y}<extra></extra>",
         "legendgroup": "Wales",
         "marker": {
          "color": "#ccebc5",
          "line": {
           "color": "black",
           "width": 1
          },
          "size": 12,
          "symbol": "circle"
         },
         "mode": "markers",
         "name": "Wales",
         "orientation": "v",
         "showlegend": true,
         "type": "scatter",
         "x": [
          0.0387
         ],
         "xaxis": "x",
         "y": [
          -0.835
         ],
         "yaxis": "y"
        }
       ],
       "layout": {
        "legend": {
         "title": {
          "text": "Country"
         },
         "tracegroupgap": 0
        },
        "template": {
         "data": {
          "bar": [
           {
            "error_x": {
             "color": "#2a3f5f"
            },
            "error_y": {
             "color": "#2a3f5f"
            },
            "marker": {
             "line": {
              "color": "#E5ECF6",
              "width": 0.5
             },
             "pattern": {
              "fillmode": "overlay",
              "size": 10,
              "solidity": 0.2
             }
            },
            "type": "bar"
           }
          ],
          "barpolar": [
           {
            "marker": {
             "line": {
              "color": "#E5ECF6",
              "width": 0.5
             },
             "pattern": {
              "fillmode": "overlay",
              "size": 10,
              "solidity": 0.2
             }
            },
            "type": "barpolar"
           }
          ],
          "carpet": [
           {
            "aaxis": {
             "endlinecolor": "#2a3f5f",
             "gridcolor": "white",
             "linecolor": "white",
             "minorgridcolor": "white",
             "startlinecolor": "#2a3f5f"
            },
            "baxis": {
             "endlinecolor": "#2a3f5f",
             "gridcolor": "white",
             "linecolor": "white",
             "minorgridcolor": "white",
             "startlinecolor": "#2a3f5f"
            },
            "type": "carpet"
           }
          ],
          "choropleth": [
           {
            "colorbar": {
             "outlinewidth": 0,
             "ticks": ""
            },
            "type": "choropleth"
           }
          ],
          "contour": [
           {
            "colorbar": {
             "outlinewidth": 0,
             "ticks": ""
            },
            "colorscale": [
             [
              0,
              "#0d0887"
             ],
             [
              0.1111111111111111,
              "#46039f"
             ],
             [
              0.2222222222222222,
              "#7201a8"
             ],
             [
              0.3333333333333333,
              "#9c179e"
             ],
             [
              0.4444444444444444,
              "#bd3786"
             ],
             [
              0.5555555555555556,
              "#d8576b"
             ],
             [
              0.6666666666666666,
              "#ed7953"
             ],
             [
              0.7777777777777778,
              "#fb9f3a"
             ],
             [
              0.8888888888888888,
              "#fdca26"
             ],
             [
              1,
              "#f0f921"
             ]
            ],
            "type": "contour"
           }
          ],
          "contourcarpet": [
           {
            "colorbar": {
             "outlinewidth": 0,
             "ticks": ""
            },
            "type": "contourcarpet"
           }
          ],
          "heatmap": [
           {
            "colorbar": {
             "outlinewidth": 0,
             "ticks": ""
            },
            "colorscale": [
             [
              0,
              "#0d0887"
             ],
             [
              0.1111111111111111,
              "#46039f"
             ],
             [
              0.2222222222222222,
              "#7201a8"
             ],
             [
              0.3333333333333333,
              "#9c179e"
             ],
             [
              0.4444444444444444,
              "#bd3786"
             ],
             [
              0.5555555555555556,
              "#d8576b"
             ],
             [
              0.6666666666666666,
              "#ed7953"
             ],
             [
              0.7777777777777778,
              "#fb9f3a"
             ],
             [
              0.8888888888888888,
              "#fdca26"
             ],
             [
              1,
              "#f0f921"
             ]
            ],
            "type": "heatmap"
           }
          ],
          "heatmapgl": [
           {
            "colorbar": {
             "outlinewidth": 0,
             "ticks": ""
            },
            "colorscale": [
             [
              0,
              "#0d0887"
             ],
             [
              0.1111111111111111,
              "#46039f"
             ],
             [
              0.2222222222222222,
              "#7201a8"
             ],
             [
              0.3333333333333333,
              "#9c179e"
             ],
             [
              0.4444444444444444,
              "#bd3786"
             ],
             [
              0.5555555555555556,
              "#d8576b"
             ],
             [
              0.6666666666666666,
              "#ed7953"
             ],
             [
              0.7777777777777778,
              "#fb9f3a"
             ],
             [
              0.8888888888888888,
              "#fdca26"
             ],
             [
              1,
              "#f0f921"
             ]
            ],
            "type": "heatmapgl"
           }
          ],
          "histogram": [
           {
            "marker": {
             "pattern": {
              "fillmode": "overlay",
              "size": 10,
              "solidity": 0.2
             }
            },
            "type": "histogram"
           }
          ],
          "histogram2d": [
           {
            "colorbar": {
             "outlinewidth": 0,
             "ticks": ""
            },
            "colorscale": [
             [
              0,
              "#0d0887"
             ],
             [
              0.1111111111111111,
              "#46039f"
             ],
             [
              0.2222222222222222,
              "#7201a8"
             ],
             [
              0.3333333333333333,
              "#9c179e"
             ],
             [
              0.4444444444444444,
              "#bd3786"
             ],
             [
              0.5555555555555556,
              "#d8576b"
             ],
             [
              0.6666666666666666,
              "#ed7953"
             ],
             [
              0.7777777777777778,
              "#fb9f3a"
             ],
             [
              0.8888888888888888,
              "#fdca26"
             ],
             [
              1,
              "#f0f921"
             ]
            ],
            "type": "histogram2d"
           }
          ],
          "histogram2dcontour": [
           {
            "colorbar": {
             "outlinewidth": 0,
             "ticks": ""
            },
            "colorscale": [
             [
              0,
              "#0d0887"
             ],
             [
              0.1111111111111111,
              "#46039f"
             ],
             [
              0.2222222222222222,
              "#7201a8"
             ],
             [
              0.3333333333333333,
              "#9c179e"
             ],
             [
              0.4444444444444444,
              "#bd3786"
             ],
             [
              0.5555555555555556,
              "#d8576b"
             ],
             [
              0.6666666666666666,
              "#ed7953"
             ],
             [
              0.7777777777777778,
              "#fb9f3a"
             ],
             [
              0.8888888888888888,
              "#fdca26"
             ],
             [
              1,
              "#f0f921"
             ]
            ],
            "type": "histogram2dcontour"
           }
          ],
          "mesh3d": [
           {
            "colorbar": {
             "outlinewidth": 0,
             "ticks": ""
            },
            "type": "mesh3d"
           }
          ],
          "parcoords": [
           {
            "line": {
             "colorbar": {
              "outlinewidth": 0,
              "ticks": ""
             }
            },
            "type": "parcoords"
           }
          ],
          "pie": [
           {
            "automargin": true,
            "type": "pie"
           }
          ],
          "scatter": [
           {
            "fillpattern": {
             "fillmode": "overlay",
             "size": 10,
             "solidity": 0.2
            },
            "type": "scatter"
           }
          ],
          "scatter3d": [
           {
            "line": {
             "colorbar": {
              "outlinewidth": 0,
              "ticks": ""
             }
            },
            "marker": {
             "colorbar": {
              "outlinewidth": 0,
              "ticks": ""
             }
            },
            "type": "scatter3d"
           }
          ],
          "scattercarpet": [
           {
            "marker": {
             "colorbar": {
              "outlinewidth": 0,
              "ticks": ""
             }
            },
            "type": "scattercarpet"
           }
          ],
          "scattergeo": [
           {
            "marker": {
             "colorbar": {
              "outlinewidth": 0,
              "ticks": ""
             }
            },
            "type": "scattergeo"
           }
          ],
          "scattergl": [
           {
            "marker": {
             "colorbar": {
              "outlinewidth": 0,
              "ticks": ""
             }
            },
            "type": "scattergl"
           }
          ],
          "scattermapbox": [
           {
            "marker": {
             "colorbar": {
              "outlinewidth": 0,
              "ticks": ""
             }
            },
            "type": "scattermapbox"
           }
          ],
          "scatterpolar": [
           {
            "marker": {
             "colorbar": {
              "outlinewidth": 0,
              "ticks": ""
             }
            },
            "type": "scatterpolar"
           }
          ],
          "scatterpolargl": [
           {
            "marker": {
             "colorbar": {
              "outlinewidth": 0,
              "ticks": ""
             }
            },
            "type": "scatterpolargl"
           }
          ],
          "scatterternary": [
           {
            "marker": {
             "colorbar": {
              "outlinewidth": 0,
              "ticks": ""
             }
            },
            "type": "scatterternary"
           }
          ],
          "surface": [
           {
            "colorbar": {
             "outlinewidth": 0,
             "ticks": ""
            },
            "colorscale": [
             [
              0,
              "#0d0887"
             ],
             [
              0.1111111111111111,
              "#46039f"
             ],
             [
              0.2222222222222222,
              "#7201a8"
             ],
             [
              0.3333333333333333,
              "#9c179e"
             ],
             [
              0.4444444444444444,
              "#bd3786"
             ],
             [
              0.5555555555555556,
              "#d8576b"
             ],
             [
              0.6666666666666666,
              "#ed7953"
             ],
             [
              0.7777777777777778,
              "#fb9f3a"
             ],
             [
              0.8888888888888888,
              "#fdca26"
             ],
             [
              1,
              "#f0f921"
             ]
            ],
            "type": "surface"
           }
          ],
          "table": [
           {
            "cells": {
             "fill": {
              "color": "#EBF0F8"
             },
             "line": {
              "color": "white"
             }
            },
            "header": {
             "fill": {
              "color": "#C8D4E3"
             },
             "line": {
              "color": "white"
             }
            },
            "type": "table"
           }
          ]
         },
         "layout": {
          "annotationdefaults": {
           "arrowcolor": "#2a3f5f",
           "arrowhead": 0,
           "arrowwidth": 1
          },
          "autotypenumbers": "strict",
          "coloraxis": {
           "colorbar": {
            "outlinewidth": 0,
            "ticks": ""
           }
          },
          "colorscale": {
           "diverging": [
            [
             0,
             "#8e0152"
            ],
            [
             0.1,
             "#c51b7d"
            ],
            [
             0.2,
             "#de77ae"
            ],
            [
             0.3,
             "#f1b6da"
            ],
            [
             0.4,
             "#fde0ef"
            ],
            [
             0.5,
             "#f7f7f7"
            ],
            [
             0.6,
             "#e6f5d0"
            ],
            [
             0.7,
             "#b8e186"
            ],
            [
             0.8,
             "#7fbc41"
            ],
            [
             0.9,
             "#4d9221"
            ],
            [
             1,
             "#276419"
            ]
           ],
           "sequential": [
            [
             0,
             "#0d0887"
            ],
            [
             0.1111111111111111,
             "#46039f"
            ],
            [
             0.2222222222222222,
             "#7201a8"
            ],
            [
             0.3333333333333333,
             "#9c179e"
            ],
            [
             0.4444444444444444,
             "#bd3786"
            ],
            [
             0.5555555555555556,
             "#d8576b"
            ],
            [
             0.6666666666666666,
             "#ed7953"
            ],
            [
             0.7777777777777778,
             "#fb9f3a"
            ],
            [
             0.8888888888888888,
             "#fdca26"
            ],
            [
             1,
             "#f0f921"
            ]
           ],
           "sequentialminus": [
            [
             0,
             "#0d0887"
            ],
            [
             0.1111111111111111,
             "#46039f"
            ],
            [
             0.2222222222222222,
             "#7201a8"
            ],
            [
             0.3333333333333333,
             "#9c179e"
            ],
            [
             0.4444444444444444,
             "#bd3786"
            ],
            [
             0.5555555555555556,
             "#d8576b"
            ],
            [
             0.6666666666666666,
             "#ed7953"
            ],
            [
             0.7777777777777778,
             "#fb9f3a"
            ],
            [
             0.8888888888888888,
             "#fdca26"
            ],
            [
             1,
             "#f0f921"
            ]
           ]
          },
          "colorway": [
           "#636efa",
           "#EF553B",
           "#00cc96",
           "#ab63fa",
           "#FFA15A",
           "#19d3f3",
           "#FF6692",
           "#B6E880",
           "#FF97FF",
           "#FECB52"
          ],
          "font": {
           "color": "#2a3f5f"
          },
          "geo": {
           "bgcolor": "white",
           "lakecolor": "white",
           "landcolor": "#E5ECF6",
           "showlakes": true,
           "showland": true,
           "subunitcolor": "white"
          },
          "hoverlabel": {
           "align": "left"
          },
          "hovermode": "closest",
          "mapbox": {
           "style": "light"
          },
          "paper_bgcolor": "white",
          "plot_bgcolor": "#E5ECF6",
          "polar": {
           "angularaxis": {
            "gridcolor": "white",
            "linecolor": "white",
            "ticks": ""
           },
           "bgcolor": "#E5ECF6",
           "radialaxis": {
            "gridcolor": "white",
            "linecolor": "white",
            "ticks": ""
           }
          },
          "scene": {
           "xaxis": {
            "backgroundcolor": "#E5ECF6",
            "gridcolor": "white",
            "gridwidth": 2,
            "linecolor": "white",
            "showbackground": true,
            "ticks": "",
            "zerolinecolor": "white"
           },
           "yaxis": {
            "backgroundcolor": "#E5ECF6",
            "gridcolor": "white",
            "gridwidth": 2,
            "linecolor": "white",
            "showbackground": true,
            "ticks": "",
            "zerolinecolor": "white"
           },
           "zaxis": {
            "backgroundcolor": "#E5ECF6",
            "gridcolor": "white",
            "gridwidth": 2,
            "linecolor": "white",
            "showbackground": true,
            "ticks": "",
            "zerolinecolor": "white"
           }
          },
          "shapedefaults": {
           "line": {
            "color": "#2a3f5f"
           }
          },
          "ternary": {
           "aaxis": {
            "gridcolor": "white",
            "linecolor": "white",
            "ticks": ""
           },
           "baxis": {
            "gridcolor": "white",
            "linecolor": "white",
            "ticks": ""
           },
           "bgcolor": "#E5ECF6",
           "caxis": {
            "gridcolor": "white",
            "linecolor": "white",
            "ticks": ""
           }
          },
          "title": {
           "x": 0.05
          },
          "xaxis": {
           "automargin": true,
           "gridcolor": "white",
           "linecolor": "white",
           "ticks": "",
           "title": {
            "standoff": 15
           },
           "zerolinecolor": "white",
           "zerolinewidth": 2
          },
          "yaxis": {
           "automargin": true,
           "gridcolor": "white",
           "linecolor": "white",
           "ticks": "",
           "title": {
            "standoff": 15
           },
           "zerolinecolor": "white",
           "zerolinewidth": 2
          }
         }
        },
        "title": {
         "text": "Sentiment tweets & 2022 world cup performace, correlation coeff. on median: 0.346"
        },
        "xaxis": {
         "anchor": "y",
         "domain": [
          0,
          1
         ],
         "title": {
          "text": "Median Sentiment score"
         }
        },
        "yaxis": {
         "anchor": "x",
         "domain": [
          0,
          1
         ],
         "title": {
          "text": "Performance score"
         }
        }
       }
      }
     },
     "metadata": {},
     "output_type": "display_data"
    }
   ],
   "source": [
    "# Scatter plots pearson_correlation_medain\n",
    "fig = px.scatter(\n",
    "    tweets_performance,\n",
    "    x=tweets_performance[\"Median_score\"],\n",
    "    y=tweets_performance[\"Performance\"],\n",
    "    color=tweets_performance[\"Country\"],\n",
    "    color_discrete_sequence=colors,\n",
    "    title=\"Sentiment tweets & 2022 world cup performace, correlation coeff. on median: \" + \"{:.3f}\".format(pearson_correlation_median[0]),\n",
    ")\n",
    "fig.update_traces(marker=dict(size=12))\n",
    "fig.update_traces(marker_line_width=1,marker_line_color=\"black\")\n",
    "fig.update_xaxes(title_text=\"Median Sentiment score\")\n",
    "fig.update_yaxes(title_text=\"Performance score\")\n",
    "fig.show()\n",
    "fig.write_image(\"tweets_performance.png\")"
   ]
  },
  {
   "cell_type": "code",
   "execution_count": 7,
   "metadata": {},
   "outputs": [
    {
     "data": {
      "application/vnd.plotly.v1+json": {
       "config": {
        "plotlyServerURL": "https://plot.ly"
       },
       "data": [
        {
         "hovertemplate": "Country=Argentina<br>Std_score=%{x}<br>Performance=%{y}<extra></extra>",
         "legendgroup": "Argentina",
         "marker": {
          "color": "#1f77b4",
          "line": {
           "color": "black",
           "width": 1
          },
          "size": 12,
          "symbol": "circle"
         },
         "mode": "markers",
         "name": "Argentina",
         "orientation": "v",
         "showlegend": true,
         "type": "scatter",
         "x": [
          0.4187433913976387
         ],
         "xaxis": "x",
         "y": [
          0.5000000000000001
         ],
         "yaxis": "y"
        },
        {
         "hovertemplate": "Country=Australia<br>Std_score=%{x}<br>Performance=%{y}<extra></extra>",
         "legendgroup": "Australia",
         "marker": {
          "color": "#aec7e8",
          "line": {
           "color": "black",
           "width": 1
          },
          "size": 12,
          "symbol": "circle"
         },
         "mode": "markers",
         "name": "Australia",
         "orientation": "v",
         "showlegend": true,
         "type": "scatter",
         "x": [
          0.4717649385938215
         ],
         "xaxis": "x",
         "y": [
          -0.375
         ],
         "yaxis": "y"
        },
        {
         "hovertemplate": "Country=Belgium<br>Std_score=%{x}<br>Performance=%{y}<extra></extra>",
         "legendgroup": "Belgium",
         "marker": {
          "color": "#ff7f0e",
          "line": {
           "color": "black",
           "width": 1
          },
          "size": 12,
          "symbol": "circle"
         },
         "mode": "markers",
         "name": "Belgium",
         "orientation": "v",
         "showlegend": true,
         "type": "scatter",
         "x": [
          0.4201334124684227
         ],
         "xaxis": "x",
         "y": [
          -0.585
         ],
         "yaxis": "y"
        },
        {
         "hovertemplate": "Country=Brazil<br>Std_score=%{x}<br>Performance=%{y}<extra></extra>",
         "legendgroup": "Brazil",
         "marker": {
          "color": "#ffbb78",
          "line": {
           "color": "black",
           "width": 1
          },
          "size": 12,
          "symbol": "circle"
         },
         "mode": "markers",
         "name": "Brazil",
         "orientation": "v",
         "showlegend": true,
         "type": "scatter",
         "x": [
          0.435939135130919
         ],
         "xaxis": "x",
         "y": [
          0.5
         ],
         "yaxis": "y"
        },
        {
         "hovertemplate": "Country=Cameroon<br>Std_score=%{x}<br>Performance=%{y}<extra></extra>",
         "legendgroup": "Cameroon",
         "marker": {
          "color": "#2ca02c",
          "line": {
           "color": "black",
           "width": 1
          },
          "size": 12,
          "symbol": "circle"
         },
         "mode": "markers",
         "name": "Cameroon",
         "orientation": "v",
         "showlegend": true,
         "type": "scatter",
         "x": [
          0.4046902155855804
         ],
         "xaxis": "x",
         "y": [
          0
         ],
         "yaxis": "y"
        },
        {
         "hovertemplate": "Country=Canada<br>Std_score=%{x}<br>Performance=%{y}<extra></extra>",
         "legendgroup": "Canada",
         "marker": {
          "color": "#98df8a",
          "line": {
           "color": "black",
           "width": 1
          },
          "size": 12,
          "symbol": "circle"
         },
         "mode": "markers",
         "name": "Canada",
         "orientation": "v",
         "showlegend": true,
         "type": "scatter",
         "x": [
          0.4123653539270082
         ],
         "xaxis": "x",
         "y": [
          -1
         ],
         "yaxis": "y"
        },
        {
         "hovertemplate": "Country=Costa Rica<br>Std_score=%{x}<br>Performance=%{y}<extra></extra>",
         "legendgroup": "Costa Rica",
         "marker": {
          "color": "#d62728",
          "line": {
           "color": "black",
           "width": 1
          },
          "size": 12,
          "symbol": "circle"
         },
         "mode": "markers",
         "name": "Costa Rica",
         "orientation": "v",
         "showlegend": true,
         "type": "scatter",
         "x": [
          0.4294496569763861
         ],
         "xaxis": "x",
         "y": [
          -1.33
         ],
         "yaxis": "y"
        },
        {
         "hovertemplate": "Country=Croatia<br>Std_score=%{x}<br>Performance=%{y}<extra></extra>",
         "legendgroup": "Croatia",
         "marker": {
          "color": "#ff9896",
          "line": {
           "color": "black",
           "width": 1
          },
          "size": 12,
          "symbol": "circle"
         },
         "mode": "markers",
         "name": "Croatia",
         "orientation": "v",
         "showlegend": true,
         "type": "scatter",
         "x": [
          0.4155732395558268
         ],
         "xaxis": "x",
         "y": [
          0.0699999999999999
         ],
         "yaxis": "y"
        },
        {
         "hovertemplate": "Country=Denmark<br>Std_score=%{x}<br>Performance=%{y}<extra></extra>",
         "legendgroup": "Denmark",
         "marker": {
          "color": "#9467bd",
          "line": {
           "color": "black",
           "width": 1
          },
          "size": 12,
          "symbol": "circle"
         },
         "mode": "markers",
         "name": "Denmark",
         "orientation": "v",
         "showlegend": true,
         "type": "scatter",
         "x": [
          0.4311663215374558
         ],
         "xaxis": "x",
         "y": [
          -0.3349999999999999
         ],
         "yaxis": "y"
        },
        {
         "hovertemplate": "Country=Ecuador<br>Std_score=%{x}<br>Performance=%{y}<extra></extra>",
         "legendgroup": "Ecuador",
         "marker": {
          "color": "#c5b0d5",
          "line": {
           "color": "black",
           "width": 1
          },
          "size": 12,
          "symbol": "circle"
         },
         "mode": "markers",
         "name": "Ecuador",
         "orientation": "v",
         "showlegend": true,
         "type": "scatter",
         "x": [
          0.4484648194176176
         ],
         "xaxis": "x",
         "y": [
          0.165
         ],
         "yaxis": "y"
        },
        {
         "hovertemplate": "Country=England<br>Std_score=%{x}<br>Performance=%{y}<extra></extra>",
         "legendgroup": "England",
         "marker": {
          "color": "#8c564b",
          "line": {
           "color": "black",
           "width": 1
          },
          "size": 12,
          "symbol": "circle"
         },
         "mode": "markers",
         "name": "England",
         "orientation": "v",
         "showlegend": true,
         "type": "scatter",
         "x": [
          0.4409067631198507
         ],
         "xaxis": "x",
         "y": [
          0.9
         ],
         "yaxis": "y"
        },
        {
         "hovertemplate": "Country=France<br>Std_score=%{x}<br>Performance=%{y}<extra></extra>",
         "legendgroup": "France",
         "marker": {
          "color": "#c49c94",
          "line": {
           "color": "black",
           "width": 1
          },
          "size": 12,
          "symbol": "circle"
         },
         "mode": "markers",
         "name": "France",
         "orientation": "v",
         "showlegend": true,
         "type": "scatter",
         "x": [
          0.4753925213365411
         ],
         "xaxis": "x",
         "y": [
          0.57
         ],
         "yaxis": "y"
        },
        {
         "hovertemplate": "Country=Germany<br>Std_score=%{x}<br>Performance=%{y}<extra></extra>",
         "legendgroup": "Germany",
         "marker": {
          "color": "#e377c2",
          "line": {
           "color": "black",
           "width": 1
          },
          "size": 12,
          "symbol": "circle"
         },
         "mode": "markers",
         "name": "Germany",
         "orientation": "v",
         "showlegend": true,
         "type": "scatter",
         "x": [
          0.4669979772900144
         ],
         "xaxis": "x",
         "y": [
          0.17
         ],
         "yaxis": "y"
        },
        {
         "hovertemplate": "Country=Ghana<br>Std_score=%{x}<br>Performance=%{y}<extra></extra>",
         "legendgroup": "Ghana",
         "marker": {
          "color": "#f7b6d2",
          "line": {
           "color": "black",
           "width": 1
          },
          "size": 12,
          "symbol": "circle"
         },
         "mode": "markers",
         "name": "Ghana",
         "orientation": "v",
         "showlegend": true,
         "type": "scatter",
         "x": [
          0.4753856557556625
         ],
         "xaxis": "x",
         "y": [
          -0.3350000000000001
         ],
         "yaxis": "y"
        },
        {
         "hovertemplate": "Country=Iran<br>Std_score=%{x}<br>Performance=%{y}<extra></extra>",
         "legendgroup": "Iran",
         "marker": {
          "color": "#7f7f7f",
          "line": {
           "color": "black",
           "width": 1
          },
          "size": 12,
          "symbol": "circle"
         },
         "mode": "markers",
         "name": "Iran",
         "orientation": "v",
         "showlegend": true,
         "type": "scatter",
         "x": [
          0.5495716819890025
         ],
         "xaxis": "x",
         "y": [
          -0.5
         ],
         "yaxis": "y"
        },
        {
         "hovertemplate": "Country=Japan<br>Std_score=%{x}<br>Performance=%{y}<extra></extra>",
         "legendgroup": "Japan",
         "marker": {
          "color": "#c7c7c7",
          "line": {
           "color": "black",
           "width": 1
          },
          "size": 12,
          "symbol": "circle"
         },
         "mode": "markers",
         "name": "Japan",
         "orientation": "v",
         "showlegend": true,
         "type": "scatter",
         "x": [
          0.4630998166539527
         ],
         "xaxis": "x",
         "y": [
          0.125
         ],
         "yaxis": "y"
        },
        {
         "hovertemplate": "Country=Korea Republic<br>Std_score=%{x}<br>Performance=%{y}<extra></extra>",
         "legendgroup": "Korea Republic",
         "marker": {
          "color": "#bcbd22",
          "line": {
           "color": "black",
           "width": 1
          },
          "size": 12,
          "symbol": "circle"
         },
         "mode": "markers",
         "name": "Korea Republic",
         "orientation": "v",
         "showlegend": true,
         "type": "scatter",
         "x": [
          0.4112843934618433
         ],
         "xaxis": "x",
         "y": [
          -0.375
         ],
         "yaxis": "y"
        },
        {
         "hovertemplate": "Country=Mexico<br>Std_score=%{x}<br>Performance=%{y}<extra></extra>",
         "legendgroup": "Mexico",
         "marker": {
          "color": "#dbdb8d",
          "line": {
           "color": "black",
           "width": 1
          },
          "size": 12,
          "symbol": "circle"
         },
         "mode": "markers",
         "name": "Mexico",
         "orientation": "v",
         "showlegend": true,
         "type": "scatter",
         "x": [
          0.4315146095816595
         ],
         "xaxis": "x",
         "y": [
          -0.1699999999999999
         ],
         "yaxis": "y"
        },
        {
         "hovertemplate": "Country=Morocco<br>Std_score=%{x}<br>Performance=%{y}<extra></extra>",
         "legendgroup": "Morocco",
         "marker": {
          "color": "#17becf",
          "line": {
           "color": "black",
           "width": 1
          },
          "size": 12,
          "symbol": "circle"
         },
         "mode": "markers",
         "name": "Morocco",
         "orientation": "v",
         "showlegend": true,
         "type": "scatter",
         "x": [
          0.4213917935095388
         ],
         "xaxis": "x",
         "y": [
          0.07
         ],
         "yaxis": "y"
        },
        {
         "hovertemplate": "Country=Netherlands<br>Std_score=%{x}<br>Performance=%{y}<extra></extra>",
         "legendgroup": "Netherlands",
         "marker": {
          "color": "#9edae5",
          "line": {
           "color": "black",
           "width": 1
          },
          "size": 12,
          "symbol": "circle"
         },
         "mode": "markers",
         "name": "Netherlands",
         "orientation": "v",
         "showlegend": true,
         "type": "scatter",
         "x": [
          0.4701912192804562
         ],
         "xaxis": "x",
         "y": [
          0.6
         ],
         "yaxis": "y"
        },
        {
         "hovertemplate": "Country=Poland<br>Std_score=%{x}<br>Performance=%{y}<extra></extra>",
         "legendgroup": "Poland",
         "marker": {
          "color": "#e6550d",
          "line": {
           "color": "black",
           "width": 1
          },
          "size": 12,
          "symbol": "circle"
         },
         "mode": "markers",
         "name": "Poland",
         "orientation": "v",
         "showlegend": true,
         "type": "scatter",
         "x": [
          0.4112829229756652
         ],
         "xaxis": "x",
         "y": [
          -0.25
         ],
         "yaxis": "y"
        },
        {
         "hovertemplate": "Country=Portugal<br>Std_score=%{x}<br>Performance=%{y}<extra></extra>",
         "legendgroup": "Portugal",
         "marker": {
          "color": "#fd8d3c",
          "line": {
           "color": "black",
           "width": 1
          },
          "size": 12,
          "symbol": "circle"
         },
         "mode": "markers",
         "name": "Portugal",
         "orientation": "v",
         "showlegend": true,
         "type": "scatter",
         "x": [
          0.4739926700194434
         ],
         "xaxis": "x",
         "y": [
          0.6
         ],
         "yaxis": "y"
        },
        {
         "hovertemplate": "Country=Qatar<br>Std_score=%{x}<br>Performance=%{y}<extra></extra>",
         "legendgroup": "Qatar",
         "marker": {
          "color": "#6baed6",
          "line": {
           "color": "black",
           "width": 1
          },
          "size": 12,
          "symbol": "circle"
         },
         "mode": "markers",
         "name": "Qatar",
         "orientation": "v",
         "showlegend": true,
         "type": "scatter",
         "x": [
          0.478982550200666
         ],
         "xaxis": "x",
         "y": [
          -1
         ],
         "yaxis": "y"
        },
        {
         "hovertemplate": "Country=Saudi Arabia<br>Std_score=%{x}<br>Performance=%{y}<extra></extra>",
         "legendgroup": "Saudi Arabia",
         "marker": {
          "color": "#74c476",
          "line": {
           "color": "black",
           "width": 1
          },
          "size": 12,
          "symbol": "circle"
         },
         "mode": "markers",
         "name": "Saudi Arabia",
         "orientation": "v",
         "showlegend": true,
         "type": "scatter",
         "x": [
          0.4742065539114923
         ],
         "xaxis": "x",
         "y": [
          -0.3299999999999999
         ],
         "yaxis": "y"
        },
        {
         "hovertemplate": "Country=Senegal<br>Std_score=%{x}<br>Performance=%{y}<extra></extra>",
         "legendgroup": "Senegal",
         "marker": {
          "color": "#9e9ac8",
          "line": {
           "color": "black",
           "width": 1
          },
          "size": 12,
          "symbol": "circle"
         },
         "mode": "markers",
         "name": "Senegal",
         "orientation": "v",
         "showlegend": true,
         "type": "scatter",
         "x": [
          0.4159300969725416
         ],
         "xaxis": "x",
         "y": [
          -0.25
         ],
         "yaxis": "y"
        },
        {
         "hovertemplate": "Country=Serbia<br>Std_score=%{x}<br>Performance=%{y}<extra></extra>",
         "legendgroup": "Serbia",
         "marker": {
          "color": "#fdae6b",
          "line": {
           "color": "black",
           "width": 1
          },
          "size": 12,
          "symbol": "circle"
         },
         "mode": "markers",
         "name": "Serbia",
         "orientation": "v",
         "showlegend": true,
         "type": "scatter",
         "x": [
          0.396225478805025
         ],
         "xaxis": "x",
         "y": [
          -0.5000000000000001
         ],
         "yaxis": "y"
        },
        {
         "hovertemplate": "Country=Spain<br>Std_score=%{x}<br>Performance=%{y}<extra></extra>",
         "legendgroup": "Spain",
         "marker": {
          "color": "#8dd3c7",
          "line": {
           "color": "black",
           "width": 1
          },
          "size": 12,
          "symbol": "circle"
         },
         "mode": "markers",
         "name": "Spain",
         "orientation": "v",
         "showlegend": true,
         "type": "scatter",
         "x": [
          0.4640706533971659
         ],
         "xaxis": "x",
         "y": [
          0.75
         ],
         "yaxis": "y"
        },
        {
         "hovertemplate": "Country=Switzerland<br>Std_score=%{x}<br>Performance=%{y}<extra></extra>",
         "legendgroup": "Switzerland",
         "marker": {
          "color": "#b3de69",
          "line": {
           "color": "black",
           "width": 1
          },
          "size": 12,
          "symbol": "circle"
         },
         "mode": "markers",
         "name": "Switzerland",
         "orientation": "v",
         "showlegend": true,
         "type": "scatter",
         "x": [
          0.4237202065241096
         ],
         "xaxis": "x",
         "y": [
          -0.5
         ],
         "yaxis": "y"
        },
        {
         "hovertemplate": "Country=Tunisia<br>Std_score=%{x}<br>Performance=%{y}<extra></extra>",
         "legendgroup": "Tunisia",
         "marker": {
          "color": "#fccde5",
          "line": {
           "color": "black",
           "width": 1
          },
          "size": 12,
          "symbol": "circle"
         },
         "mode": "markers",
         "name": "Tunisia",
         "orientation": "v",
         "showlegend": true,
         "type": "scatter",
         "x": [
          0.4563295165030524
         ],
         "xaxis": "x",
         "y": [
          0
         ],
         "yaxis": "y"
        },
        {
         "hovertemplate": "Country=United States<br>Std_score=%{x}<br>Performance=%{y}<extra></extra>",
         "legendgroup": "United States",
         "marker": {
          "color": "#d9d9d9",
          "line": {
           "color": "black",
           "width": 1
          },
          "size": 12,
          "symbol": "circle"
         },
         "mode": "markers",
         "name": "United States",
         "orientation": "v",
         "showlegend": true,
         "type": "scatter",
         "x": [
          0.3653560993007113
         ],
         "xaxis": "x",
         "y": [
          -0.125
         ],
         "yaxis": "y"
        },
        {
         "hovertemplate": "Country=Uruguay<br>Std_score=%{x}<br>Performance=%{y}<extra></extra>",
         "legendgroup": "Uruguay",
         "marker": {
          "color": "#bc80bd",
          "line": {
           "color": "black",
           "width": 1
          },
          "size": 12,
          "symbol": "circle"
         },
         "mode": "markers",
         "name": "Uruguay",
         "orientation": "v",
         "showlegend": true,
         "type": "scatter",
         "x": [
          0.4477937972418123
         ],
         "xaxis": "x",
         "y": [
          -0.15
         ],
         "yaxis": "y"
        },
        {
         "hovertemplate": "Country=Wales<br>Std_score=%{x}<br>Performance=%{y}<extra></extra>",
         "legendgroup": "Wales",
         "marker": {
          "color": "#ccebc5",
          "line": {
           "color": "black",
           "width": 1
          },
          "size": 12,
          "symbol": "circle"
         },
         "mode": "markers",
         "name": "Wales",
         "orientation": "v",
         "showlegend": true,
         "type": "scatter",
         "x": [
          0.442412599749471
         ],
         "xaxis": "x",
         "y": [
          -0.835
         ],
         "yaxis": "y"
        }
       ],
       "layout": {
        "legend": {
         "title": {
          "text": "Country"
         },
         "tracegroupgap": 0
        },
        "template": {
         "data": {
          "bar": [
           {
            "error_x": {
             "color": "#2a3f5f"
            },
            "error_y": {
             "color": "#2a3f5f"
            },
            "marker": {
             "line": {
              "color": "#E5ECF6",
              "width": 0.5
             },
             "pattern": {
              "fillmode": "overlay",
              "size": 10,
              "solidity": 0.2
             }
            },
            "type": "bar"
           }
          ],
          "barpolar": [
           {
            "marker": {
             "line": {
              "color": "#E5ECF6",
              "width": 0.5
             },
             "pattern": {
              "fillmode": "overlay",
              "size": 10,
              "solidity": 0.2
             }
            },
            "type": "barpolar"
           }
          ],
          "carpet": [
           {
            "aaxis": {
             "endlinecolor": "#2a3f5f",
             "gridcolor": "white",
             "linecolor": "white",
             "minorgridcolor": "white",
             "startlinecolor": "#2a3f5f"
            },
            "baxis": {
             "endlinecolor": "#2a3f5f",
             "gridcolor": "white",
             "linecolor": "white",
             "minorgridcolor": "white",
             "startlinecolor": "#2a3f5f"
            },
            "type": "carpet"
           }
          ],
          "choropleth": [
           {
            "colorbar": {
             "outlinewidth": 0,
             "ticks": ""
            },
            "type": "choropleth"
           }
          ],
          "contour": [
           {
            "colorbar": {
             "outlinewidth": 0,
             "ticks": ""
            },
            "colorscale": [
             [
              0,
              "#0d0887"
             ],
             [
              0.1111111111111111,
              "#46039f"
             ],
             [
              0.2222222222222222,
              "#7201a8"
             ],
             [
              0.3333333333333333,
              "#9c179e"
             ],
             [
              0.4444444444444444,
              "#bd3786"
             ],
             [
              0.5555555555555556,
              "#d8576b"
             ],
             [
              0.6666666666666666,
              "#ed7953"
             ],
             [
              0.7777777777777778,
              "#fb9f3a"
             ],
             [
              0.8888888888888888,
              "#fdca26"
             ],
             [
              1,
              "#f0f921"
             ]
            ],
            "type": "contour"
           }
          ],
          "contourcarpet": [
           {
            "colorbar": {
             "outlinewidth": 0,
             "ticks": ""
            },
            "type": "contourcarpet"
           }
          ],
          "heatmap": [
           {
            "colorbar": {
             "outlinewidth": 0,
             "ticks": ""
            },
            "colorscale": [
             [
              0,
              "#0d0887"
             ],
             [
              0.1111111111111111,
              "#46039f"
             ],
             [
              0.2222222222222222,
              "#7201a8"
             ],
             [
              0.3333333333333333,
              "#9c179e"
             ],
             [
              0.4444444444444444,
              "#bd3786"
             ],
             [
              0.5555555555555556,
              "#d8576b"
             ],
             [
              0.6666666666666666,
              "#ed7953"
             ],
             [
              0.7777777777777778,
              "#fb9f3a"
             ],
             [
              0.8888888888888888,
              "#fdca26"
             ],
             [
              1,
              "#f0f921"
             ]
            ],
            "type": "heatmap"
           }
          ],
          "heatmapgl": [
           {
            "colorbar": {
             "outlinewidth": 0,
             "ticks": ""
            },
            "colorscale": [
             [
              0,
              "#0d0887"
             ],
             [
              0.1111111111111111,
              "#46039f"
             ],
             [
              0.2222222222222222,
              "#7201a8"
             ],
             [
              0.3333333333333333,
              "#9c179e"
             ],
             [
              0.4444444444444444,
              "#bd3786"
             ],
             [
              0.5555555555555556,
              "#d8576b"
             ],
             [
              0.6666666666666666,
              "#ed7953"
             ],
             [
              0.7777777777777778,
              "#fb9f3a"
             ],
             [
              0.8888888888888888,
              "#fdca26"
             ],
             [
              1,
              "#f0f921"
             ]
            ],
            "type": "heatmapgl"
           }
          ],
          "histogram": [
           {
            "marker": {
             "pattern": {
              "fillmode": "overlay",
              "size": 10,
              "solidity": 0.2
             }
            },
            "type": "histogram"
           }
          ],
          "histogram2d": [
           {
            "colorbar": {
             "outlinewidth": 0,
             "ticks": ""
            },
            "colorscale": [
             [
              0,
              "#0d0887"
             ],
             [
              0.1111111111111111,
              "#46039f"
             ],
             [
              0.2222222222222222,
              "#7201a8"
             ],
             [
              0.3333333333333333,
              "#9c179e"
             ],
             [
              0.4444444444444444,
              "#bd3786"
             ],
             [
              0.5555555555555556,
              "#d8576b"
             ],
             [
              0.6666666666666666,
              "#ed7953"
             ],
             [
              0.7777777777777778,
              "#fb9f3a"
             ],
             [
              0.8888888888888888,
              "#fdca26"
             ],
             [
              1,
              "#f0f921"
             ]
            ],
            "type": "histogram2d"
           }
          ],
          "histogram2dcontour": [
           {
            "colorbar": {
             "outlinewidth": 0,
             "ticks": ""
            },
            "colorscale": [
             [
              0,
              "#0d0887"
             ],
             [
              0.1111111111111111,
              "#46039f"
             ],
             [
              0.2222222222222222,
              "#7201a8"
             ],
             [
              0.3333333333333333,
              "#9c179e"
             ],
             [
              0.4444444444444444,
              "#bd3786"
             ],
             [
              0.5555555555555556,
              "#d8576b"
             ],
             [
              0.6666666666666666,
              "#ed7953"
             ],
             [
              0.7777777777777778,
              "#fb9f3a"
             ],
             [
              0.8888888888888888,
              "#fdca26"
             ],
             [
              1,
              "#f0f921"
             ]
            ],
            "type": "histogram2dcontour"
           }
          ],
          "mesh3d": [
           {
            "colorbar": {
             "outlinewidth": 0,
             "ticks": ""
            },
            "type": "mesh3d"
           }
          ],
          "parcoords": [
           {
            "line": {
             "colorbar": {
              "outlinewidth": 0,
              "ticks": ""
             }
            },
            "type": "parcoords"
           }
          ],
          "pie": [
           {
            "automargin": true,
            "type": "pie"
           }
          ],
          "scatter": [
           {
            "fillpattern": {
             "fillmode": "overlay",
             "size": 10,
             "solidity": 0.2
            },
            "type": "scatter"
           }
          ],
          "scatter3d": [
           {
            "line": {
             "colorbar": {
              "outlinewidth": 0,
              "ticks": ""
             }
            },
            "marker": {
             "colorbar": {
              "outlinewidth": 0,
              "ticks": ""
             }
            },
            "type": "scatter3d"
           }
          ],
          "scattercarpet": [
           {
            "marker": {
             "colorbar": {
              "outlinewidth": 0,
              "ticks": ""
             }
            },
            "type": "scattercarpet"
           }
          ],
          "scattergeo": [
           {
            "marker": {
             "colorbar": {
              "outlinewidth": 0,
              "ticks": ""
             }
            },
            "type": "scattergeo"
           }
          ],
          "scattergl": [
           {
            "marker": {
             "colorbar": {
              "outlinewidth": 0,
              "ticks": ""
             }
            },
            "type": "scattergl"
           }
          ],
          "scattermapbox": [
           {
            "marker": {
             "colorbar": {
              "outlinewidth": 0,
              "ticks": ""
             }
            },
            "type": "scattermapbox"
           }
          ],
          "scatterpolar": [
           {
            "marker": {
             "colorbar": {
              "outlinewidth": 0,
              "ticks": ""
             }
            },
            "type": "scatterpolar"
           }
          ],
          "scatterpolargl": [
           {
            "marker": {
             "colorbar": {
              "outlinewidth": 0,
              "ticks": ""
             }
            },
            "type": "scatterpolargl"
           }
          ],
          "scatterternary": [
           {
            "marker": {
             "colorbar": {
              "outlinewidth": 0,
              "ticks": ""
             }
            },
            "type": "scatterternary"
           }
          ],
          "surface": [
           {
            "colorbar": {
             "outlinewidth": 0,
             "ticks": ""
            },
            "colorscale": [
             [
              0,
              "#0d0887"
             ],
             [
              0.1111111111111111,
              "#46039f"
             ],
             [
              0.2222222222222222,
              "#7201a8"
             ],
             [
              0.3333333333333333,
              "#9c179e"
             ],
             [
              0.4444444444444444,
              "#bd3786"
             ],
             [
              0.5555555555555556,
              "#d8576b"
             ],
             [
              0.6666666666666666,
              "#ed7953"
             ],
             [
              0.7777777777777778,
              "#fb9f3a"
             ],
             [
              0.8888888888888888,
              "#fdca26"
             ],
             [
              1,
              "#f0f921"
             ]
            ],
            "type": "surface"
           }
          ],
          "table": [
           {
            "cells": {
             "fill": {
              "color": "#EBF0F8"
             },
             "line": {
              "color": "white"
             }
            },
            "header": {
             "fill": {
              "color": "#C8D4E3"
             },
             "line": {
              "color": "white"
             }
            },
            "type": "table"
           }
          ]
         },
         "layout": {
          "annotationdefaults": {
           "arrowcolor": "#2a3f5f",
           "arrowhead": 0,
           "arrowwidth": 1
          },
          "autotypenumbers": "strict",
          "coloraxis": {
           "colorbar": {
            "outlinewidth": 0,
            "ticks": ""
           }
          },
          "colorscale": {
           "diverging": [
            [
             0,
             "#8e0152"
            ],
            [
             0.1,
             "#c51b7d"
            ],
            [
             0.2,
             "#de77ae"
            ],
            [
             0.3,
             "#f1b6da"
            ],
            [
             0.4,
             "#fde0ef"
            ],
            [
             0.5,
             "#f7f7f7"
            ],
            [
             0.6,
             "#e6f5d0"
            ],
            [
             0.7,
             "#b8e186"
            ],
            [
             0.8,
             "#7fbc41"
            ],
            [
             0.9,
             "#4d9221"
            ],
            [
             1,
             "#276419"
            ]
           ],
           "sequential": [
            [
             0,
             "#0d0887"
            ],
            [
             0.1111111111111111,
             "#46039f"
            ],
            [
             0.2222222222222222,
             "#7201a8"
            ],
            [
             0.3333333333333333,
             "#9c179e"
            ],
            [
             0.4444444444444444,
             "#bd3786"
            ],
            [
             0.5555555555555556,
             "#d8576b"
            ],
            [
             0.6666666666666666,
             "#ed7953"
            ],
            [
             0.7777777777777778,
             "#fb9f3a"
            ],
            [
             0.8888888888888888,
             "#fdca26"
            ],
            [
             1,
             "#f0f921"
            ]
           ],
           "sequentialminus": [
            [
             0,
             "#0d0887"
            ],
            [
             0.1111111111111111,
             "#46039f"
            ],
            [
             0.2222222222222222,
             "#7201a8"
            ],
            [
             0.3333333333333333,
             "#9c179e"
            ],
            [
             0.4444444444444444,
             "#bd3786"
            ],
            [
             0.5555555555555556,
             "#d8576b"
            ],
            [
             0.6666666666666666,
             "#ed7953"
            ],
            [
             0.7777777777777778,
             "#fb9f3a"
            ],
            [
             0.8888888888888888,
             "#fdca26"
            ],
            [
             1,
             "#f0f921"
            ]
           ]
          },
          "colorway": [
           "#636efa",
           "#EF553B",
           "#00cc96",
           "#ab63fa",
           "#FFA15A",
           "#19d3f3",
           "#FF6692",
           "#B6E880",
           "#FF97FF",
           "#FECB52"
          ],
          "font": {
           "color": "#2a3f5f"
          },
          "geo": {
           "bgcolor": "white",
           "lakecolor": "white",
           "landcolor": "#E5ECF6",
           "showlakes": true,
           "showland": true,
           "subunitcolor": "white"
          },
          "hoverlabel": {
           "align": "left"
          },
          "hovermode": "closest",
          "mapbox": {
           "style": "light"
          },
          "paper_bgcolor": "white",
          "plot_bgcolor": "#E5ECF6",
          "polar": {
           "angularaxis": {
            "gridcolor": "white",
            "linecolor": "white",
            "ticks": ""
           },
           "bgcolor": "#E5ECF6",
           "radialaxis": {
            "gridcolor": "white",
            "linecolor": "white",
            "ticks": ""
           }
          },
          "scene": {
           "xaxis": {
            "backgroundcolor": "#E5ECF6",
            "gridcolor": "white",
            "gridwidth": 2,
            "linecolor": "white",
            "showbackground": true,
            "ticks": "",
            "zerolinecolor": "white"
           },
           "yaxis": {
            "backgroundcolor": "#E5ECF6",
            "gridcolor": "white",
            "gridwidth": 2,
            "linecolor": "white",
            "showbackground": true,
            "ticks": "",
            "zerolinecolor": "white"
           },
           "zaxis": {
            "backgroundcolor": "#E5ECF6",
            "gridcolor": "white",
            "gridwidth": 2,
            "linecolor": "white",
            "showbackground": true,
            "ticks": "",
            "zerolinecolor": "white"
           }
          },
          "shapedefaults": {
           "line": {
            "color": "#2a3f5f"
           }
          },
          "ternary": {
           "aaxis": {
            "gridcolor": "white",
            "linecolor": "white",
            "ticks": ""
           },
           "baxis": {
            "gridcolor": "white",
            "linecolor": "white",
            "ticks": ""
           },
           "bgcolor": "#E5ECF6",
           "caxis": {
            "gridcolor": "white",
            "linecolor": "white",
            "ticks": ""
           }
          },
          "title": {
           "x": 0.05
          },
          "xaxis": {
           "automargin": true,
           "gridcolor": "white",
           "linecolor": "white",
           "ticks": "",
           "title": {
            "standoff": 15
           },
           "zerolinecolor": "white",
           "zerolinewidth": 2
          },
          "yaxis": {
           "automargin": true,
           "gridcolor": "white",
           "linecolor": "white",
           "ticks": "",
           "title": {
            "standoff": 15
           },
           "zerolinecolor": "white",
           "zerolinewidth": 2
          }
         }
        },
        "title": {
         "text": "Sentiment tweets & 2022 world cup performace, correlation coeff. on standard deviation: 0.119"
        },
        "xaxis": {
         "anchor": "y",
         "domain": [
          0,
          1
         ],
         "title": {
          "text": "SD Sentiment score"
         }
        },
        "yaxis": {
         "anchor": "x",
         "domain": [
          0,
          1
         ],
         "title": {
          "text": "Performance score"
         }
        }
       }
      }
     },
     "metadata": {},
     "output_type": "display_data"
    }
   ],
   "source": [
    "# Scatter plots pearson_correlation_sd\n",
    "fig = px.scatter(\n",
    "    tweets_performance,\n",
    "    x=tweets_performance[\"Std_score\"],\n",
    "    y=tweets_performance[\"Performance\"],\n",
    "    color=tweets_performance[\"Country\"],\n",
    "    color_discrete_sequence=colors,\n",
    "    title=\"Sentiment tweets & 2022 world cup performace, correlation coeff. on standard deviation: \" + \"{:.3f}\".format(pearson_correlation_sd[0]),\n",
    ")\n",
    "fig.update_traces(marker=dict(size=12))\n",
    "fig.update_traces(marker_line_width=1,marker_line_color=\"black\")\n",
    "fig.update_xaxes(title_text=\"SD Sentiment score\")\n",
    "fig.update_yaxes(title_text=\"Performance score\")\n",
    "fig.show()\n",
    "fig.write_image(\"tweets_performance_sd.png\")"
   ]
  },
  {
   "cell_type": "code",
   "execution_count": null,
   "metadata": {},
   "outputs": [],
   "source": []
  }
 ],
 "metadata": {
  "kernelspec": {
   "display_name": "Python 3",
   "language": "python",
   "name": "python3"
  },
  "language_info": {
   "codemirror_mode": {
    "name": "ipython",
    "version": 3
   },
   "file_extension": ".py",
   "mimetype": "text/x-python",
   "name": "python",
   "nbconvert_exporter": "python",
   "pygments_lexer": "ipython3",
   "version": "3.10.4"
  },
  "orig_nbformat": 4,
  "vscode": {
   "interpreter": {
    "hash": "abf44cea7c7df6cd37d25eb4c20e2039917839d83658e45694db7f1d0c1e7204"
   }
  }
 },
 "nbformat": 4,
 "nbformat_minor": 2
}
